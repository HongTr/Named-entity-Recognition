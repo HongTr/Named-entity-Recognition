{
  "cells": [
    {
      "cell_type": "markdown",
      "source": [
        "# Mount drive, import libraries"
      ],
      "metadata": {
        "id": "p91ygBk6kvEU"
      }
    },
    {
      "cell_type": "code",
      "execution_count": null,
      "metadata": {
        "id": "TvqW18aQCSbk",
        "colab": {
          "base_uri": "https://localhost:8080/"
        },
        "outputId": "9274f557-ef65-4322-b50c-e21a7e081acf"
      },
      "outputs": [
        {
          "output_type": "stream",
          "name": "stdout",
          "text": [
            "Drive already mounted at /content/drive; to attempt to forcibly remount, call drive.mount(\"/content/drive\", force_remount=True).\n",
            "/content/drive/MyDrive/AI\n"
          ]
        }
      ],
      "source": [
        "from google.colab import drive\n",
        "drive.mount('/content/drive')\n",
        "%cd '/content/drive/MyDrive/AI'"
      ]
    },
    {
      "cell_type": "code",
      "execution_count": null,
      "metadata": {
        "id": "sSu2z-rGQPzT"
      },
      "outputs": [],
      "source": [
        "import numpy as np\n",
        "import pandas as pd\n",
        "import pickle"
      ]
    },
    {
      "cell_type": "code",
      "execution_count": null,
      "metadata": {
        "id": "etclMUJrjZPt"
      },
      "outputs": [],
      "source": [
        "import torch\n",
        "from torch import nn, optim\n",
        "from torch.nn import functional as F\n",
        "import torch.autograd as autograd\n",
        "torch.manual_seed(1)\n",
        "device = torch.device('cuda:0' if torch.cuda.is_available() else 'cpu') #'cuda:0'"
      ]
    },
    {
      "cell_type": "code",
      "execution_count": null,
      "metadata": {
        "id": "4n1glilH6T02",
        "colab": {
          "base_uri": "https://localhost:8080/"
        },
        "outputId": "6bbcdf9b-40a4-4b57-ad75-4e97ce24a47c"
      },
      "outputs": [
        {
          "output_type": "stream",
          "name": "stdout",
          "text": [
            "Looking in indexes: https://pypi.org/simple, https://us-python.pkg.dev/colab-wheels/public/simple/\n",
            "Requirement already satisfied: pyvi in /usr/local/lib/python3.7/dist-packages (0.1.1)\n",
            "Requirement already satisfied: sklearn-crfsuite in /usr/local/lib/python3.7/dist-packages (from pyvi) (0.3.6)\n",
            "Requirement already satisfied: scikit-learn in /usr/local/lib/python3.7/dist-packages (from pyvi) (1.0.2)\n",
            "Requirement already satisfied: joblib>=0.11 in /usr/local/lib/python3.7/dist-packages (from scikit-learn->pyvi) (1.1.0)\n",
            "Requirement already satisfied: threadpoolctl>=2.0.0 in /usr/local/lib/python3.7/dist-packages (from scikit-learn->pyvi) (3.1.0)\n",
            "Requirement already satisfied: numpy>=1.14.6 in /usr/local/lib/python3.7/dist-packages (from scikit-learn->pyvi) (1.21.6)\n",
            "Requirement already satisfied: scipy>=1.1.0 in /usr/local/lib/python3.7/dist-packages (from scikit-learn->pyvi) (1.7.3)\n",
            "Requirement already satisfied: six in /usr/local/lib/python3.7/dist-packages (from sklearn-crfsuite->pyvi) (1.15.0)\n",
            "Requirement already satisfied: tabulate in /usr/local/lib/python3.7/dist-packages (from sklearn-crfsuite->pyvi) (0.8.10)\n",
            "Requirement already satisfied: python-crfsuite>=0.8.3 in /usr/local/lib/python3.7/dist-packages (from sklearn-crfsuite->pyvi) (0.9.8)\n",
            "Requirement already satisfied: tqdm>=2.0 in /usr/local/lib/python3.7/dist-packages (from sklearn-crfsuite->pyvi) (4.64.1)\n"
          ]
        }
      ],
      "source": [
        "!pip install pyvi\n",
        "from pyvi import ViPosTagger"
      ]
    },
    {
      "cell_type": "code",
      "source": [
        "%pip install conlleval\n",
        "from conlleval import evaluate"
      ],
      "metadata": {
        "id": "b4wvOXmExGdT",
        "colab": {
          "base_uri": "https://localhost:8080/"
        },
        "outputId": "323bf00d-433c-4fa8-f76f-de891dd1f22a"
      },
      "execution_count": null,
      "outputs": [
        {
          "output_type": "stream",
          "name": "stdout",
          "text": [
            "Looking in indexes: https://pypi.org/simple, https://us-python.pkg.dev/colab-wheels/public/simple/\n",
            "Requirement already satisfied: conlleval in /usr/local/lib/python3.7/dist-packages (0.2)\n"
          ]
        }
      ]
    },
    {
      "cell_type": "markdown",
      "metadata": {
        "id": "smGFqkdxBGBJ"
      },
      "source": [
        "# Read Pretrained data"
      ]
    },
    {
      "cell_type": "code",
      "execution_count": null,
      "metadata": {
        "id": "gNE08vnAgzbn"
      },
      "outputs": [],
      "source": [
        "pretrain_data_0 = pd.read_csv('pretrained100.txt', sep=\" \",header = None, skiprows = 1, nrows = 100000)\n",
        "pretrain_data_1 = pd.read_csv('pretrained100.txt', sep=\" \",header = None, skiprows = 100001, nrows = 100000)\n",
        "pretrain_data_2 = pd.read_csv('pretrained100.txt', sep=\" \",header = None, skiprows = 200001, nrows = 100000)\n",
        "pretrain_data_3 = pd.read_csv('pretrained100.txt', sep=\" \",header = None, skiprows = 300001, nrows = 100000)\n",
        "pretrain_data = pd.concat([pretrain_data_0, pretrain_data_1, pretrain_data_2, pretrain_data_3])"
      ]
    },
    {
      "cell_type": "code",
      "execution_count": null,
      "metadata": {
        "colab": {
          "base_uri": "https://localhost:8080/",
          "height": 317
        },
        "id": "6oPugpA6YRya",
        "outputId": "090a1646-63b5-41cf-b50c-97583ae6145c"
      },
      "outputs": [
        {
          "name": "stdout",
          "output_type": "stream",
          "text": [
            "(400000, 101)\n"
          ]
        },
        {
          "data": {
            "text/html": [
              "\n",
              "  <div id=\"df-131fcd21-0748-4692-b475-d9d7dc899411\">\n",
              "    <div class=\"colab-df-container\">\n",
              "      <div>\n",
              "<style scoped>\n",
              "    .dataframe tbody tr th:only-of-type {\n",
              "        vertical-align: middle;\n",
              "    }\n",
              "\n",
              "    .dataframe tbody tr th {\n",
              "        vertical-align: top;\n",
              "    }\n",
              "\n",
              "    .dataframe thead th {\n",
              "        text-align: right;\n",
              "    }\n",
              "</style>\n",
              "<table border=\"1\" class=\"dataframe\">\n",
              "  <thead>\n",
              "    <tr style=\"text-align: right;\">\n",
              "      <th></th>\n",
              "      <th>0</th>\n",
              "      <th>1</th>\n",
              "      <th>2</th>\n",
              "      <th>3</th>\n",
              "      <th>4</th>\n",
              "      <th>5</th>\n",
              "      <th>6</th>\n",
              "      <th>7</th>\n",
              "      <th>8</th>\n",
              "      <th>9</th>\n",
              "      <th>...</th>\n",
              "      <th>91</th>\n",
              "      <th>92</th>\n",
              "      <th>93</th>\n",
              "      <th>94</th>\n",
              "      <th>95</th>\n",
              "      <th>96</th>\n",
              "      <th>97</th>\n",
              "      <th>98</th>\n",
              "      <th>99</th>\n",
              "      <th>100</th>\n",
              "    </tr>\n",
              "  </thead>\n",
              "  <tbody>\n",
              "    <tr>\n",
              "      <th>0</th>\n",
              "      <td>,</td>\n",
              "      <td>-0.013445</td>\n",
              "      <td>0.082912</td>\n",
              "      <td>0.095113</td>\n",
              "      <td>0.052493</td>\n",
              "      <td>0.069441</td>\n",
              "      <td>-0.010651</td>\n",
              "      <td>0.004321</td>\n",
              "      <td>-0.082824</td>\n",
              "      <td>0.051480</td>\n",
              "      <td>...</td>\n",
              "      <td>-0.099876</td>\n",
              "      <td>0.020649</td>\n",
              "      <td>-0.066902</td>\n",
              "      <td>0.077416</td>\n",
              "      <td>-0.147332</td>\n",
              "      <td>-0.021268</td>\n",
              "      <td>0.019100</td>\n",
              "      <td>-0.138095</td>\n",
              "      <td>0.077689</td>\n",
              "      <td>-0.210762</td>\n",
              "    </tr>\n",
              "    <tr>\n",
              "      <th>1</th>\n",
              "      <td>.</td>\n",
              "      <td>0.080173</td>\n",
              "      <td>0.048418</td>\n",
              "      <td>0.058027</td>\n",
              "      <td>0.055044</td>\n",
              "      <td>0.023451</td>\n",
              "      <td>-0.000025</td>\n",
              "      <td>0.000599</td>\n",
              "      <td>-0.071703</td>\n",
              "      <td>0.054242</td>\n",
              "      <td>...</td>\n",
              "      <td>-0.183366</td>\n",
              "      <td>0.039830</td>\n",
              "      <td>-0.010186</td>\n",
              "      <td>0.075011</td>\n",
              "      <td>-0.128598</td>\n",
              "      <td>-0.020384</td>\n",
              "      <td>0.029758</td>\n",
              "      <td>-0.172362</td>\n",
              "      <td>0.126670</td>\n",
              "      <td>-0.188354</td>\n",
              "    </tr>\n",
              "    <tr>\n",
              "      <th>2</th>\n",
              "      <td>và</td>\n",
              "      <td>0.013720</td>\n",
              "      <td>0.058717</td>\n",
              "      <td>0.110645</td>\n",
              "      <td>0.066075</td>\n",
              "      <td>0.046535</td>\n",
              "      <td>-0.004956</td>\n",
              "      <td>-0.003579</td>\n",
              "      <td>-0.033581</td>\n",
              "      <td>0.043340</td>\n",
              "      <td>...</td>\n",
              "      <td>-0.128276</td>\n",
              "      <td>-0.011903</td>\n",
              "      <td>-0.048510</td>\n",
              "      <td>0.085721</td>\n",
              "      <td>-0.133140</td>\n",
              "      <td>0.005551</td>\n",
              "      <td>0.043090</td>\n",
              "      <td>-0.154915</td>\n",
              "      <td>0.148186</td>\n",
              "      <td>-0.196749</td>\n",
              "    </tr>\n",
              "    <tr>\n",
              "      <th>3</th>\n",
              "      <td>của</td>\n",
              "      <td>0.026101</td>\n",
              "      <td>0.033375</td>\n",
              "      <td>0.166609</td>\n",
              "      <td>0.013060</td>\n",
              "      <td>0.017971</td>\n",
              "      <td>0.006579</td>\n",
              "      <td>0.067402</td>\n",
              "      <td>0.002216</td>\n",
              "      <td>0.116908</td>\n",
              "      <td>...</td>\n",
              "      <td>-0.137093</td>\n",
              "      <td>0.036225</td>\n",
              "      <td>-0.026152</td>\n",
              "      <td>0.148379</td>\n",
              "      <td>-0.151303</td>\n",
              "      <td>-0.039304</td>\n",
              "      <td>0.016051</td>\n",
              "      <td>-0.123603</td>\n",
              "      <td>0.107642</td>\n",
              "      <td>-0.222042</td>\n",
              "    </tr>\n",
              "    <tr>\n",
              "      <th>4</th>\n",
              "      <td>là</td>\n",
              "      <td>0.031769</td>\n",
              "      <td>0.048661</td>\n",
              "      <td>0.138932</td>\n",
              "      <td>-0.068711</td>\n",
              "      <td>0.049129</td>\n",
              "      <td>-0.014016</td>\n",
              "      <td>0.066129</td>\n",
              "      <td>0.013496</td>\n",
              "      <td>0.028830</td>\n",
              "      <td>...</td>\n",
              "      <td>-0.124612</td>\n",
              "      <td>0.031029</td>\n",
              "      <td>-0.069093</td>\n",
              "      <td>0.085157</td>\n",
              "      <td>-0.106477</td>\n",
              "      <td>-0.006654</td>\n",
              "      <td>-0.006391</td>\n",
              "      <td>-0.161527</td>\n",
              "      <td>0.107603</td>\n",
              "      <td>-0.208509</td>\n",
              "    </tr>\n",
              "  </tbody>\n",
              "</table>\n",
              "<p>5 rows × 101 columns</p>\n",
              "</div>\n",
              "      <button class=\"colab-df-convert\" onclick=\"convertToInteractive('df-131fcd21-0748-4692-b475-d9d7dc899411')\"\n",
              "              title=\"Convert this dataframe to an interactive table.\"\n",
              "              style=\"display:none;\">\n",
              "        \n",
              "  <svg xmlns=\"http://www.w3.org/2000/svg\" height=\"24px\"viewBox=\"0 0 24 24\"\n",
              "       width=\"24px\">\n",
              "    <path d=\"M0 0h24v24H0V0z\" fill=\"none\"/>\n",
              "    <path d=\"M18.56 5.44l.94 2.06.94-2.06 2.06-.94-2.06-.94-.94-2.06-.94 2.06-2.06.94zm-11 1L8.5 8.5l.94-2.06 2.06-.94-2.06-.94L8.5 2.5l-.94 2.06-2.06.94zm10 10l.94 2.06.94-2.06 2.06-.94-2.06-.94-.94-2.06-.94 2.06-2.06.94z\"/><path d=\"M17.41 7.96l-1.37-1.37c-.4-.4-.92-.59-1.43-.59-.52 0-1.04.2-1.43.59L10.3 9.45l-7.72 7.72c-.78.78-.78 2.05 0 2.83L4 21.41c.39.39.9.59 1.41.59.51 0 1.02-.2 1.41-.59l7.78-7.78 2.81-2.81c.8-.78.8-2.07 0-2.86zM5.41 20L4 18.59l7.72-7.72 1.47 1.35L5.41 20z\"/>\n",
              "  </svg>\n",
              "      </button>\n",
              "      \n",
              "  <style>\n",
              "    .colab-df-container {\n",
              "      display:flex;\n",
              "      flex-wrap:wrap;\n",
              "      gap: 12px;\n",
              "    }\n",
              "\n",
              "    .colab-df-convert {\n",
              "      background-color: #E8F0FE;\n",
              "      border: none;\n",
              "      border-radius: 50%;\n",
              "      cursor: pointer;\n",
              "      display: none;\n",
              "      fill: #1967D2;\n",
              "      height: 32px;\n",
              "      padding: 0 0 0 0;\n",
              "      width: 32px;\n",
              "    }\n",
              "\n",
              "    .colab-df-convert:hover {\n",
              "      background-color: #E2EBFA;\n",
              "      box-shadow: 0px 1px 2px rgba(60, 64, 67, 0.3), 0px 1px 3px 1px rgba(60, 64, 67, 0.15);\n",
              "      fill: #174EA6;\n",
              "    }\n",
              "\n",
              "    [theme=dark] .colab-df-convert {\n",
              "      background-color: #3B4455;\n",
              "      fill: #D2E3FC;\n",
              "    }\n",
              "\n",
              "    [theme=dark] .colab-df-convert:hover {\n",
              "      background-color: #434B5C;\n",
              "      box-shadow: 0px 1px 3px 1px rgba(0, 0, 0, 0.15);\n",
              "      filter: drop-shadow(0px 1px 2px rgba(0, 0, 0, 0.3));\n",
              "      fill: #FFFFFF;\n",
              "    }\n",
              "  </style>\n",
              "\n",
              "      <script>\n",
              "        const buttonEl =\n",
              "          document.querySelector('#df-131fcd21-0748-4692-b475-d9d7dc899411 button.colab-df-convert');\n",
              "        buttonEl.style.display =\n",
              "          google.colab.kernel.accessAllowed ? 'block' : 'none';\n",
              "\n",
              "        async function convertToInteractive(key) {\n",
              "          const element = document.querySelector('#df-131fcd21-0748-4692-b475-d9d7dc899411');\n",
              "          const dataTable =\n",
              "            await google.colab.kernel.invokeFunction('convertToInteractive',\n",
              "                                                     [key], {});\n",
              "          if (!dataTable) return;\n",
              "\n",
              "          const docLinkHtml = 'Like what you see? Visit the ' +\n",
              "            '<a target=\"_blank\" href=https://colab.research.google.com/notebooks/data_table.ipynb>data table notebook</a>'\n",
              "            + ' to learn more about interactive tables.';\n",
              "          element.innerHTML = '';\n",
              "          dataTable['output_type'] = 'display_data';\n",
              "          await google.colab.output.renderOutput(dataTable, element);\n",
              "          const docLink = document.createElement('div');\n",
              "          docLink.innerHTML = docLinkHtml;\n",
              "          element.appendChild(docLink);\n",
              "        }\n",
              "      </script>\n",
              "    </div>\n",
              "  </div>\n",
              "  "
            ],
            "text/plain": [
              "   0         1         2         3         4         5         6         7    \\\n",
              "0    , -0.013445  0.082912  0.095113  0.052493  0.069441 -0.010651  0.004321   \n",
              "1    .  0.080173  0.048418  0.058027  0.055044  0.023451 -0.000025  0.000599   \n",
              "2   và  0.013720  0.058717  0.110645  0.066075  0.046535 -0.004956 -0.003579   \n",
              "3  của  0.026101  0.033375  0.166609  0.013060  0.017971  0.006579  0.067402   \n",
              "4   là  0.031769  0.048661  0.138932 -0.068711  0.049129 -0.014016  0.066129   \n",
              "\n",
              "        8         9    ...       91        92        93        94        95   \\\n",
              "0 -0.082824  0.051480  ... -0.099876  0.020649 -0.066902  0.077416 -0.147332   \n",
              "1 -0.071703  0.054242  ... -0.183366  0.039830 -0.010186  0.075011 -0.128598   \n",
              "2 -0.033581  0.043340  ... -0.128276 -0.011903 -0.048510  0.085721 -0.133140   \n",
              "3  0.002216  0.116908  ... -0.137093  0.036225 -0.026152  0.148379 -0.151303   \n",
              "4  0.013496  0.028830  ... -0.124612  0.031029 -0.069093  0.085157 -0.106477   \n",
              "\n",
              "        96        97        98        99        100  \n",
              "0 -0.021268  0.019100 -0.138095  0.077689 -0.210762  \n",
              "1 -0.020384  0.029758 -0.172362  0.126670 -0.188354  \n",
              "2  0.005551  0.043090 -0.154915  0.148186 -0.196749  \n",
              "3 -0.039304  0.016051 -0.123603  0.107642 -0.222042  \n",
              "4 -0.006654 -0.006391 -0.161527  0.107603 -0.208509  \n",
              "\n",
              "[5 rows x 101 columns]"
            ]
          },
          "execution_count": 44,
          "metadata": {},
          "output_type": "execute_result"
        }
      ],
      "source": [
        "print(pretrain_data.shape)\n",
        "pretrain_data.head()"
      ]
    },
    {
      "cell_type": "code",
      "execution_count": null,
      "metadata": {
        "id": "APQ4iL6QPCUy"
      },
      "outputs": [],
      "source": [
        "word_embedding_dict = {}\n",
        "border = np.sqrt(3/100)\n",
        "count = 0\n",
        "for word in list_of_words:\n",
        "  if pretrain_data.loc[pretrain_data[0] == word].shape[0] == 0:\n",
        "    word_embedding_dict[word] = np.random.uniform(-border,border, 100).tolist()\n",
        "  else:\n",
        "    temp = []\n",
        "    for x in range(1, 101):\n",
        "      _ = pretrain_data.loc[pretrain_data[0] == word, x].values[0]\n",
        "      temp.append(_)\n",
        "    word_embedding_dict[word] = temp"
      ]
    },
    {
      "cell_type": "code",
      "execution_count": null,
      "metadata": {
        "colab": {
          "base_uri": "https://localhost:8080/"
        },
        "id": "DZEGxCuGTbhF",
        "outputId": "585c1c33-f826-4b8f-d466-8287f9798288"
      },
      "outputs": [
        {
          "data": {
            "text/plain": [
              "7886"
            ]
          },
          "execution_count": 48,
          "metadata": {},
          "output_type": "execute_result"
        }
      ],
      "source": [
        "len(word_embedding_dict)"
      ]
    },
    {
      "cell_type": "code",
      "execution_count": null,
      "metadata": {
        "id": "iF_J5T1vBgE5"
      },
      "outputs": [],
      "source": [
        "import pickle"
      ]
    },
    {
      "cell_type": "code",
      "execution_count": null,
      "metadata": {
        "colab": {
          "base_uri": "https://localhost:8080/",
          "height": 35
        },
        "id": "LvVXYAGDpxu8",
        "outputId": "0a5d4c9d-b9a7-4950-dee3-5548885029b5"
      },
      "outputs": [
        {
          "data": {
            "application/vnd.google.colaboratory.intrinsic+json": {
              "type": "string"
            },
            "text/plain": [
              "\"with open('saved_dictionary.pkl', 'rb') as f:\\n    loaded_dict = pickle.load(f)\""
            ]
          },
          "execution_count": 49,
          "metadata": {},
          "output_type": "execute_result"
        }
      ],
      "source": [
        "import pickle\n",
        "with open('saved_dictionary.pkl', 'wb') as f:\n",
        "    pickle.dump(word_embedding_dict, f)"
      ]
    },
    {
      "cell_type": "markdown",
      "metadata": {
        "id": "iNUNpA8YBWG-"
      },
      "source": [
        "# Data Preprocessing"
      ]
    },
    {
      "cell_type": "code",
      "execution_count": null,
      "metadata": {
        "id": "VsrxvVLNqgq5"
      },
      "outputs": [],
      "source": [
        "with open('saved_dictionary.pkl', 'rb') as f: #read from a pretrained word-embedding file\n",
        "    loaded_dict = pickle.load(f)\n",
        "\n",
        "border = np.sqrt(3/100)\n",
        "loaded_dict['UNK'] = np.random.uniform(-border,border, 100).tolist()"
      ]
    },
    {
      "cell_type": "code",
      "source": [
        "trainset = pd.read_csv('train_word.csv')[['sent', 'anno']]\n",
        "print(f\"Dataset's shape: {trainset.shape}\")\n",
        "trainset.head(3)"
      ],
      "metadata": {
        "colab": {
          "base_uri": "https://localhost:8080/",
          "height": 161
        },
        "id": "ZXj4qU6XvWC2",
        "outputId": "f4623790-e752-4a69-e614-c588b67c30d0"
      },
      "execution_count": null,
      "outputs": [
        {
          "output_type": "stream",
          "name": "stdout",
          "text": [
            "Dataset's shape: (5027, 2)\n"
          ]
        },
        {
          "output_type": "execute_result",
          "data": {
            "text/plain": [
              "                                                sent  \\\n",
              "0  Đồng_thời , bệnh_viện tiếp_tục thực_hiện các b...   \n",
              "1  \" Số bệnh_viện có_thể tiếp_nhận bệnh_nhân bị s...   \n",
              "2  Ngoài_ra , những người tiếp_xúc gián_tiếp ( đã...   \n",
              "\n",
              "                                                anno  \n",
              "0  O O O O O O O O O O O O O O O B-ORGANIZATION I...  \n",
              "1  O O O O O O O B-SYMPTOM_AND_DISEASE I-SYMPTOM_...  \n",
              "2  O O O O O O O O O O O O O O O O O O O O O O O ...  "
            ],
            "text/html": [
              "\n",
              "  <div id=\"df-cbb571d3-a6dd-4aaa-be0f-889ad760e66c\">\n",
              "    <div class=\"colab-df-container\">\n",
              "      <div>\n",
              "<style scoped>\n",
              "    .dataframe tbody tr th:only-of-type {\n",
              "        vertical-align: middle;\n",
              "    }\n",
              "\n",
              "    .dataframe tbody tr th {\n",
              "        vertical-align: top;\n",
              "    }\n",
              "\n",
              "    .dataframe thead th {\n",
              "        text-align: right;\n",
              "    }\n",
              "</style>\n",
              "<table border=\"1\" class=\"dataframe\">\n",
              "  <thead>\n",
              "    <tr style=\"text-align: right;\">\n",
              "      <th></th>\n",
              "      <th>sent</th>\n",
              "      <th>anno</th>\n",
              "    </tr>\n",
              "  </thead>\n",
              "  <tbody>\n",
              "    <tr>\n",
              "      <th>0</th>\n",
              "      <td>Đồng_thời , bệnh_viện tiếp_tục thực_hiện các b...</td>\n",
              "      <td>O O O O O O O O O O O O O O O B-ORGANIZATION I...</td>\n",
              "    </tr>\n",
              "    <tr>\n",
              "      <th>1</th>\n",
              "      <td>\" Số bệnh_viện có_thể tiếp_nhận bệnh_nhân bị s...</td>\n",
              "      <td>O O O O O O O B-SYMPTOM_AND_DISEASE I-SYMPTOM_...</td>\n",
              "    </tr>\n",
              "    <tr>\n",
              "      <th>2</th>\n",
              "      <td>Ngoài_ra , những người tiếp_xúc gián_tiếp ( đã...</td>\n",
              "      <td>O O O O O O O O O O O O O O O O O O O O O O O ...</td>\n",
              "    </tr>\n",
              "  </tbody>\n",
              "</table>\n",
              "</div>\n",
              "      <button class=\"colab-df-convert\" onclick=\"convertToInteractive('df-cbb571d3-a6dd-4aaa-be0f-889ad760e66c')\"\n",
              "              title=\"Convert this dataframe to an interactive table.\"\n",
              "              style=\"display:none;\">\n",
              "        \n",
              "  <svg xmlns=\"http://www.w3.org/2000/svg\" height=\"24px\"viewBox=\"0 0 24 24\"\n",
              "       width=\"24px\">\n",
              "    <path d=\"M0 0h24v24H0V0z\" fill=\"none\"/>\n",
              "    <path d=\"M18.56 5.44l.94 2.06.94-2.06 2.06-.94-2.06-.94-.94-2.06-.94 2.06-2.06.94zm-11 1L8.5 8.5l.94-2.06 2.06-.94-2.06-.94L8.5 2.5l-.94 2.06-2.06.94zm10 10l.94 2.06.94-2.06 2.06-.94-2.06-.94-.94-2.06-.94 2.06-2.06.94z\"/><path d=\"M17.41 7.96l-1.37-1.37c-.4-.4-.92-.59-1.43-.59-.52 0-1.04.2-1.43.59L10.3 9.45l-7.72 7.72c-.78.78-.78 2.05 0 2.83L4 21.41c.39.39.9.59 1.41.59.51 0 1.02-.2 1.41-.59l7.78-7.78 2.81-2.81c.8-.78.8-2.07 0-2.86zM5.41 20L4 18.59l7.72-7.72 1.47 1.35L5.41 20z\"/>\n",
              "  </svg>\n",
              "      </button>\n",
              "      \n",
              "  <style>\n",
              "    .colab-df-container {\n",
              "      display:flex;\n",
              "      flex-wrap:wrap;\n",
              "      gap: 12px;\n",
              "    }\n",
              "\n",
              "    .colab-df-convert {\n",
              "      background-color: #E8F0FE;\n",
              "      border: none;\n",
              "      border-radius: 50%;\n",
              "      cursor: pointer;\n",
              "      display: none;\n",
              "      fill: #1967D2;\n",
              "      height: 32px;\n",
              "      padding: 0 0 0 0;\n",
              "      width: 32px;\n",
              "    }\n",
              "\n",
              "    .colab-df-convert:hover {\n",
              "      background-color: #E2EBFA;\n",
              "      box-shadow: 0px 1px 2px rgba(60, 64, 67, 0.3), 0px 1px 3px 1px rgba(60, 64, 67, 0.15);\n",
              "      fill: #174EA6;\n",
              "    }\n",
              "\n",
              "    [theme=dark] .colab-df-convert {\n",
              "      background-color: #3B4455;\n",
              "      fill: #D2E3FC;\n",
              "    }\n",
              "\n",
              "    [theme=dark] .colab-df-convert:hover {\n",
              "      background-color: #434B5C;\n",
              "      box-shadow: 0px 1px 3px 1px rgba(0, 0, 0, 0.15);\n",
              "      filter: drop-shadow(0px 1px 2px rgba(0, 0, 0, 0.3));\n",
              "      fill: #FFFFFF;\n",
              "    }\n",
              "  </style>\n",
              "\n",
              "      <script>\n",
              "        const buttonEl =\n",
              "          document.querySelector('#df-cbb571d3-a6dd-4aaa-be0f-889ad760e66c button.colab-df-convert');\n",
              "        buttonEl.style.display =\n",
              "          google.colab.kernel.accessAllowed ? 'block' : 'none';\n",
              "\n",
              "        async function convertToInteractive(key) {\n",
              "          const element = document.querySelector('#df-cbb571d3-a6dd-4aaa-be0f-889ad760e66c');\n",
              "          const dataTable =\n",
              "            await google.colab.kernel.invokeFunction('convertToInteractive',\n",
              "                                                     [key], {});\n",
              "          if (!dataTable) return;\n",
              "\n",
              "          const docLinkHtml = 'Like what you see? Visit the ' +\n",
              "            '<a target=\"_blank\" href=https://colab.research.google.com/notebooks/data_table.ipynb>data table notebook</a>'\n",
              "            + ' to learn more about interactive tables.';\n",
              "          element.innerHTML = '';\n",
              "          dataTable['output_type'] = 'display_data';\n",
              "          await google.colab.output.renderOutput(dataTable, element);\n",
              "          const docLink = document.createElement('div');\n",
              "          docLink.innerHTML = docLinkHtml;\n",
              "          element.appendChild(docLink);\n",
              "        }\n",
              "      </script>\n",
              "    </div>\n",
              "  </div>\n",
              "  "
            ]
          },
          "metadata": {},
          "execution_count": 61
        }
      ]
    },
    {
      "cell_type": "code",
      "source": [
        "testset = pd.read_csv('test_word.csv')[['sent', 'anno']]\n",
        "print(f\"Dataset's shape: {testset.shape}\")\n",
        "testset.head(3)"
      ],
      "metadata": {
        "colab": {
          "base_uri": "https://localhost:8080/",
          "height": 161
        },
        "id": "_GzVxbDvvhTP",
        "outputId": "c4a54df9-e30e-48fe-9564-d5d1fe382d5e"
      },
      "execution_count": null,
      "outputs": [
        {
          "output_type": "stream",
          "name": "stdout",
          "text": [
            "Dataset's shape: (4000, 2)\n"
          ]
        },
        {
          "output_type": "execute_result",
          "data": {
            "text/plain": [
              "                                                sent  \\\n",
              "0  Từ 24 - 7 đến 31 - 7 , bệnh_nhân được mẹ là bà...   \n",
              "1  Bác_sĩ Trần_Thanh_Linh , từ Bệnh_viện Chợ_Rẫy ...   \n",
              "2  Theo đó , Sở Y_tế Bình_Thuận cho biết sau khi ...   \n",
              "\n",
              "                                                anno  \n",
              "0  O B-DATE I-DATE I-DATE O B-DATE I-DATE I-DATE ...  \n",
              "1  O O O O B-ORGANIZATION I-ORGANIZATION O O O O ...  \n",
              "2  O O O B-ORGANIZATION I-ORGANIZATION I-ORGANIZA...  "
            ],
            "text/html": [
              "\n",
              "  <div id=\"df-88e90982-fa89-4d06-ae3c-1e3313f5d070\">\n",
              "    <div class=\"colab-df-container\">\n",
              "      <div>\n",
              "<style scoped>\n",
              "    .dataframe tbody tr th:only-of-type {\n",
              "        vertical-align: middle;\n",
              "    }\n",
              "\n",
              "    .dataframe tbody tr th {\n",
              "        vertical-align: top;\n",
              "    }\n",
              "\n",
              "    .dataframe thead th {\n",
              "        text-align: right;\n",
              "    }\n",
              "</style>\n",
              "<table border=\"1\" class=\"dataframe\">\n",
              "  <thead>\n",
              "    <tr style=\"text-align: right;\">\n",
              "      <th></th>\n",
              "      <th>sent</th>\n",
              "      <th>anno</th>\n",
              "    </tr>\n",
              "  </thead>\n",
              "  <tbody>\n",
              "    <tr>\n",
              "      <th>0</th>\n",
              "      <td>Từ 24 - 7 đến 31 - 7 , bệnh_nhân được mẹ là bà...</td>\n",
              "      <td>O B-DATE I-DATE I-DATE O B-DATE I-DATE I-DATE ...</td>\n",
              "    </tr>\n",
              "    <tr>\n",
              "      <th>1</th>\n",
              "      <td>Bác_sĩ Trần_Thanh_Linh , từ Bệnh_viện Chợ_Rẫy ...</td>\n",
              "      <td>O O O O B-ORGANIZATION I-ORGANIZATION O O O O ...</td>\n",
              "    </tr>\n",
              "    <tr>\n",
              "      <th>2</th>\n",
              "      <td>Theo đó , Sở Y_tế Bình_Thuận cho biết sau khi ...</td>\n",
              "      <td>O O O B-ORGANIZATION I-ORGANIZATION I-ORGANIZA...</td>\n",
              "    </tr>\n",
              "  </tbody>\n",
              "</table>\n",
              "</div>\n",
              "      <button class=\"colab-df-convert\" onclick=\"convertToInteractive('df-88e90982-fa89-4d06-ae3c-1e3313f5d070')\"\n",
              "              title=\"Convert this dataframe to an interactive table.\"\n",
              "              style=\"display:none;\">\n",
              "        \n",
              "  <svg xmlns=\"http://www.w3.org/2000/svg\" height=\"24px\"viewBox=\"0 0 24 24\"\n",
              "       width=\"24px\">\n",
              "    <path d=\"M0 0h24v24H0V0z\" fill=\"none\"/>\n",
              "    <path d=\"M18.56 5.44l.94 2.06.94-2.06 2.06-.94-2.06-.94-.94-2.06-.94 2.06-2.06.94zm-11 1L8.5 8.5l.94-2.06 2.06-.94-2.06-.94L8.5 2.5l-.94 2.06-2.06.94zm10 10l.94 2.06.94-2.06 2.06-.94-2.06-.94-.94-2.06-.94 2.06-2.06.94z\"/><path d=\"M17.41 7.96l-1.37-1.37c-.4-.4-.92-.59-1.43-.59-.52 0-1.04.2-1.43.59L10.3 9.45l-7.72 7.72c-.78.78-.78 2.05 0 2.83L4 21.41c.39.39.9.59 1.41.59.51 0 1.02-.2 1.41-.59l7.78-7.78 2.81-2.81c.8-.78.8-2.07 0-2.86zM5.41 20L4 18.59l7.72-7.72 1.47 1.35L5.41 20z\"/>\n",
              "  </svg>\n",
              "      </button>\n",
              "      \n",
              "  <style>\n",
              "    .colab-df-container {\n",
              "      display:flex;\n",
              "      flex-wrap:wrap;\n",
              "      gap: 12px;\n",
              "    }\n",
              "\n",
              "    .colab-df-convert {\n",
              "      background-color: #E8F0FE;\n",
              "      border: none;\n",
              "      border-radius: 50%;\n",
              "      cursor: pointer;\n",
              "      display: none;\n",
              "      fill: #1967D2;\n",
              "      height: 32px;\n",
              "      padding: 0 0 0 0;\n",
              "      width: 32px;\n",
              "    }\n",
              "\n",
              "    .colab-df-convert:hover {\n",
              "      background-color: #E2EBFA;\n",
              "      box-shadow: 0px 1px 2px rgba(60, 64, 67, 0.3), 0px 1px 3px 1px rgba(60, 64, 67, 0.15);\n",
              "      fill: #174EA6;\n",
              "    }\n",
              "\n",
              "    [theme=dark] .colab-df-convert {\n",
              "      background-color: #3B4455;\n",
              "      fill: #D2E3FC;\n",
              "    }\n",
              "\n",
              "    [theme=dark] .colab-df-convert:hover {\n",
              "      background-color: #434B5C;\n",
              "      box-shadow: 0px 1px 3px 1px rgba(0, 0, 0, 0.15);\n",
              "      filter: drop-shadow(0px 1px 2px rgba(0, 0, 0, 0.3));\n",
              "      fill: #FFFFFF;\n",
              "    }\n",
              "  </style>\n",
              "\n",
              "      <script>\n",
              "        const buttonEl =\n",
              "          document.querySelector('#df-88e90982-fa89-4d06-ae3c-1e3313f5d070 button.colab-df-convert');\n",
              "        buttonEl.style.display =\n",
              "          google.colab.kernel.accessAllowed ? 'block' : 'none';\n",
              "\n",
              "        async function convertToInteractive(key) {\n",
              "          const element = document.querySelector('#df-88e90982-fa89-4d06-ae3c-1e3313f5d070');\n",
              "          const dataTable =\n",
              "            await google.colab.kernel.invokeFunction('convertToInteractive',\n",
              "                                                     [key], {});\n",
              "          if (!dataTable) return;\n",
              "\n",
              "          const docLinkHtml = 'Like what you see? Visit the ' +\n",
              "            '<a target=\"_blank\" href=https://colab.research.google.com/notebooks/data_table.ipynb>data table notebook</a>'\n",
              "            + ' to learn more about interactive tables.';\n",
              "          element.innerHTML = '';\n",
              "          dataTable['output_type'] = 'display_data';\n",
              "          await google.colab.output.renderOutput(dataTable, element);\n",
              "          const docLink = document.createElement('div');\n",
              "          docLink.innerHTML = docLinkHtml;\n",
              "          element.appendChild(docLink);\n",
              "        }\n",
              "      </script>\n",
              "    </div>\n",
              "  </div>\n",
              "  "
            ]
          },
          "metadata": {},
          "execution_count": 62
        }
      ]
    },
    {
      "cell_type": "code",
      "source": [
        "validset = pd.read_csv('val_word.csv')[['sent', 'anno']]\n",
        "print(f\"Dataset's shape: {validset.shape}\")\n",
        "validset.head(3)"
      ],
      "metadata": {
        "colab": {
          "base_uri": "https://localhost:8080/",
          "height": 161
        },
        "id": "mp_s8OQYvnWy",
        "outputId": "79466be6-b812-4ecf-bf4b-31ea567d93c3"
      },
      "execution_count": null,
      "outputs": [
        {
          "output_type": "stream",
          "name": "stdout",
          "text": [
            "Dataset's shape: (1000, 2)\n"
          ]
        },
        {
          "output_type": "execute_result",
          "data": {
            "text/plain": [
              "                                                sent  \\\n",
              "0  Bác_sĩ Nguyễn_Trung_Nguyên , Giám_đốc Trung_tâ...   \n",
              "1  \" Bệnh_nhân 812 \" , nam , 62 tuổi , là nhân_vi...   \n",
              "2  Trong số những người mà cô ấy đã tiếp_xúc với ...   \n",
              "\n",
              "                                                anno  \n",
              "0  O O O O B-ORGANIZATION I-ORGANIZATION I-ORGANI...  \n",
              "1  O O B-PATIENT_ID O O B-GENDER O B-AGE O O O B-...  \n",
              "2           O O O O O O O O O O O O B-ORGANIZATION O  "
            ],
            "text/html": [
              "\n",
              "  <div id=\"df-e8887e04-12ab-45b2-9860-738654e0ce14\">\n",
              "    <div class=\"colab-df-container\">\n",
              "      <div>\n",
              "<style scoped>\n",
              "    .dataframe tbody tr th:only-of-type {\n",
              "        vertical-align: middle;\n",
              "    }\n",
              "\n",
              "    .dataframe tbody tr th {\n",
              "        vertical-align: top;\n",
              "    }\n",
              "\n",
              "    .dataframe thead th {\n",
              "        text-align: right;\n",
              "    }\n",
              "</style>\n",
              "<table border=\"1\" class=\"dataframe\">\n",
              "  <thead>\n",
              "    <tr style=\"text-align: right;\">\n",
              "      <th></th>\n",
              "      <th>sent</th>\n",
              "      <th>anno</th>\n",
              "    </tr>\n",
              "  </thead>\n",
              "  <tbody>\n",
              "    <tr>\n",
              "      <th>0</th>\n",
              "      <td>Bác_sĩ Nguyễn_Trung_Nguyên , Giám_đốc Trung_tâ...</td>\n",
              "      <td>O O O O B-ORGANIZATION I-ORGANIZATION I-ORGANI...</td>\n",
              "    </tr>\n",
              "    <tr>\n",
              "      <th>1</th>\n",
              "      <td>\" Bệnh_nhân 812 \" , nam , 62 tuổi , là nhân_vi...</td>\n",
              "      <td>O O B-PATIENT_ID O O B-GENDER O B-AGE O O O B-...</td>\n",
              "    </tr>\n",
              "    <tr>\n",
              "      <th>2</th>\n",
              "      <td>Trong số những người mà cô ấy đã tiếp_xúc với ...</td>\n",
              "      <td>O O O O O O O O O O O O B-ORGANIZATION O</td>\n",
              "    </tr>\n",
              "  </tbody>\n",
              "</table>\n",
              "</div>\n",
              "      <button class=\"colab-df-convert\" onclick=\"convertToInteractive('df-e8887e04-12ab-45b2-9860-738654e0ce14')\"\n",
              "              title=\"Convert this dataframe to an interactive table.\"\n",
              "              style=\"display:none;\">\n",
              "        \n",
              "  <svg xmlns=\"http://www.w3.org/2000/svg\" height=\"24px\"viewBox=\"0 0 24 24\"\n",
              "       width=\"24px\">\n",
              "    <path d=\"M0 0h24v24H0V0z\" fill=\"none\"/>\n",
              "    <path d=\"M18.56 5.44l.94 2.06.94-2.06 2.06-.94-2.06-.94-.94-2.06-.94 2.06-2.06.94zm-11 1L8.5 8.5l.94-2.06 2.06-.94-2.06-.94L8.5 2.5l-.94 2.06-2.06.94zm10 10l.94 2.06.94-2.06 2.06-.94-2.06-.94-.94-2.06-.94 2.06-2.06.94z\"/><path d=\"M17.41 7.96l-1.37-1.37c-.4-.4-.92-.59-1.43-.59-.52 0-1.04.2-1.43.59L10.3 9.45l-7.72 7.72c-.78.78-.78 2.05 0 2.83L4 21.41c.39.39.9.59 1.41.59.51 0 1.02-.2 1.41-.59l7.78-7.78 2.81-2.81c.8-.78.8-2.07 0-2.86zM5.41 20L4 18.59l7.72-7.72 1.47 1.35L5.41 20z\"/>\n",
              "  </svg>\n",
              "      </button>\n",
              "      \n",
              "  <style>\n",
              "    .colab-df-container {\n",
              "      display:flex;\n",
              "      flex-wrap:wrap;\n",
              "      gap: 12px;\n",
              "    }\n",
              "\n",
              "    .colab-df-convert {\n",
              "      background-color: #E8F0FE;\n",
              "      border: none;\n",
              "      border-radius: 50%;\n",
              "      cursor: pointer;\n",
              "      display: none;\n",
              "      fill: #1967D2;\n",
              "      height: 32px;\n",
              "      padding: 0 0 0 0;\n",
              "      width: 32px;\n",
              "    }\n",
              "\n",
              "    .colab-df-convert:hover {\n",
              "      background-color: #E2EBFA;\n",
              "      box-shadow: 0px 1px 2px rgba(60, 64, 67, 0.3), 0px 1px 3px 1px rgba(60, 64, 67, 0.15);\n",
              "      fill: #174EA6;\n",
              "    }\n",
              "\n",
              "    [theme=dark] .colab-df-convert {\n",
              "      background-color: #3B4455;\n",
              "      fill: #D2E3FC;\n",
              "    }\n",
              "\n",
              "    [theme=dark] .colab-df-convert:hover {\n",
              "      background-color: #434B5C;\n",
              "      box-shadow: 0px 1px 3px 1px rgba(0, 0, 0, 0.15);\n",
              "      filter: drop-shadow(0px 1px 2px rgba(0, 0, 0, 0.3));\n",
              "      fill: #FFFFFF;\n",
              "    }\n",
              "  </style>\n",
              "\n",
              "      <script>\n",
              "        const buttonEl =\n",
              "          document.querySelector('#df-e8887e04-12ab-45b2-9860-738654e0ce14 button.colab-df-convert');\n",
              "        buttonEl.style.display =\n",
              "          google.colab.kernel.accessAllowed ? 'block' : 'none';\n",
              "\n",
              "        async function convertToInteractive(key) {\n",
              "          const element = document.querySelector('#df-e8887e04-12ab-45b2-9860-738654e0ce14');\n",
              "          const dataTable =\n",
              "            await google.colab.kernel.invokeFunction('convertToInteractive',\n",
              "                                                     [key], {});\n",
              "          if (!dataTable) return;\n",
              "\n",
              "          const docLinkHtml = 'Like what you see? Visit the ' +\n",
              "            '<a target=\"_blank\" href=https://colab.research.google.com/notebooks/data_table.ipynb>data table notebook</a>'\n",
              "            + ' to learn more about interactive tables.';\n",
              "          element.innerHTML = '';\n",
              "          dataTable['output_type'] = 'display_data';\n",
              "          await google.colab.output.renderOutput(dataTable, element);\n",
              "          const docLink = document.createElement('div');\n",
              "          docLink.innerHTML = docLinkHtml;\n",
              "          element.appendChild(docLink);\n",
              "        }\n",
              "      </script>\n",
              "    </div>\n",
              "  </div>\n",
              "  "
            ]
          },
          "metadata": {},
          "execution_count": 63
        }
      ]
    },
    {
      "cell_type": "code",
      "execution_count": null,
      "metadata": {
        "id": "6GT52mOoCt9F"
      },
      "outputs": [],
      "source": [
        "word_to_ix = {}\n",
        "tag_to_ix = {}\n",
        "START_TAG = \"<START>\"\n",
        "STOP_TAG = \"<STOP>\"\n",
        "tag_to_ix[START_TAG] = 0\n",
        "tag_to_ix[STOP_TAG] = 1\n",
        "word_to_ix['UNK'] = 0\n",
        "\n",
        "for sentences, tags in zip(trainset['sent'].tolist(),trainset['anno'].tolist()):\n",
        "  for word in sentences.split():\n",
        "    if word not in word_to_ix.keys():\n",
        "      word_to_ix[word] = len(word_to_ix)\n",
        "  for tag in tags.split():\n",
        "    if tag not in tag_to_ix.keys():\n",
        "      tag_to_ix[tag] = len(tag_to_ix)"
      ]
    },
    {
      "cell_type": "code",
      "execution_count": null,
      "metadata": {
        "colab": {
          "base_uri": "https://localhost:8080/"
        },
        "id": "clTGqy5VEWsc",
        "outputId": "89f2158c-5371-4caf-ef07-97cb116a890e"
      },
      "outputs": [
        {
          "output_type": "stream",
          "name": "stdout",
          "text": [
            "{'<START>': 0, '<STOP>': 1, 'O': 2, 'B-ORGANIZATION': 3, 'I-ORGANIZATION': 4, 'B-SYMPTOM_AND_DISEASE': 5, 'I-SYMPTOM_AND_DISEASE': 6, 'B-LOCATION': 7, 'B-DATE': 8, 'B-PATIENT_ID': 9, 'B-AGE': 10, 'B-NAME': 11, 'I-DATE': 12, 'B-JOB': 13, 'I-LOCATION': 14, 'B-TRANSPORTATION': 15, 'B-GENDER': 16, 'I-TRANSPORTATION': 17, 'I-JOB': 18, 'I-NAME': 19, 'I-AGE': 20, 'I-PATIENT_ID': 21}\n"
          ]
        }
      ],
      "source": [
        "print(tag_to_ix)"
      ]
    },
    {
      "cell_type": "code",
      "source": [
        "print(f\"Number of distinct words: {len(word_to_ix)-1}\")"
      ],
      "metadata": {
        "colab": {
          "base_uri": "https://localhost:8080/"
        },
        "id": "2w8BUR230dub",
        "outputId": "a5774df0-2d11-42aa-d5f4-5d913ccdd189"
      },
      "execution_count": null,
      "outputs": [
        {
          "output_type": "stream",
          "name": "stdout",
          "text": [
            "Number of distinct words: 5167\n"
          ]
        }
      ]
    },
    {
      "cell_type": "code",
      "source": [
        "word2tag = dict()\n",
        "word2tag['word'] = list()\n",
        "word2tag['tag'] = list()\n",
        "\n",
        "for sentences, tags in zip(trainset['sent'].tolist(), trainset['anno'].tolist()):\n",
        "  for word, tag in zip (sentences.split(), tags.split()):\n",
        "    word2tag['word'].append(word)\n",
        "    word2tag['tag'].append(tag)\n",
        "dataset_df = pd.DataFrame(word2tag)"
      ],
      "metadata": {
        "id": "2GBJuI4n11ad"
      },
      "execution_count": null,
      "outputs": []
    },
    {
      "cell_type": "code",
      "source": [
        "dataset_df.head()"
      ],
      "metadata": {
        "colab": {
          "base_uri": "https://localhost:8080/",
          "height": 206
        },
        "id": "mez8fjp22qqc",
        "outputId": "8baa35c1-825f-48c6-c89f-62a68fc3931e"
      },
      "execution_count": null,
      "outputs": [
        {
          "output_type": "execute_result",
          "data": {
            "text/plain": [
              "        word tag\n",
              "0  Đồng_thời   O\n",
              "1          ,   O\n",
              "2  bệnh_viện   O\n",
              "3   tiếp_tục   O\n",
              "4  thực_hiện   O"
            ],
            "text/html": [
              "\n",
              "  <div id=\"df-d926f257-146e-483b-9a16-78bdd99ce33d\">\n",
              "    <div class=\"colab-df-container\">\n",
              "      <div>\n",
              "<style scoped>\n",
              "    .dataframe tbody tr th:only-of-type {\n",
              "        vertical-align: middle;\n",
              "    }\n",
              "\n",
              "    .dataframe tbody tr th {\n",
              "        vertical-align: top;\n",
              "    }\n",
              "\n",
              "    .dataframe thead th {\n",
              "        text-align: right;\n",
              "    }\n",
              "</style>\n",
              "<table border=\"1\" class=\"dataframe\">\n",
              "  <thead>\n",
              "    <tr style=\"text-align: right;\">\n",
              "      <th></th>\n",
              "      <th>word</th>\n",
              "      <th>tag</th>\n",
              "    </tr>\n",
              "  </thead>\n",
              "  <tbody>\n",
              "    <tr>\n",
              "      <th>0</th>\n",
              "      <td>Đồng_thời</td>\n",
              "      <td>O</td>\n",
              "    </tr>\n",
              "    <tr>\n",
              "      <th>1</th>\n",
              "      <td>,</td>\n",
              "      <td>O</td>\n",
              "    </tr>\n",
              "    <tr>\n",
              "      <th>2</th>\n",
              "      <td>bệnh_viện</td>\n",
              "      <td>O</td>\n",
              "    </tr>\n",
              "    <tr>\n",
              "      <th>3</th>\n",
              "      <td>tiếp_tục</td>\n",
              "      <td>O</td>\n",
              "    </tr>\n",
              "    <tr>\n",
              "      <th>4</th>\n",
              "      <td>thực_hiện</td>\n",
              "      <td>O</td>\n",
              "    </tr>\n",
              "  </tbody>\n",
              "</table>\n",
              "</div>\n",
              "      <button class=\"colab-df-convert\" onclick=\"convertToInteractive('df-d926f257-146e-483b-9a16-78bdd99ce33d')\"\n",
              "              title=\"Convert this dataframe to an interactive table.\"\n",
              "              style=\"display:none;\">\n",
              "        \n",
              "  <svg xmlns=\"http://www.w3.org/2000/svg\" height=\"24px\"viewBox=\"0 0 24 24\"\n",
              "       width=\"24px\">\n",
              "    <path d=\"M0 0h24v24H0V0z\" fill=\"none\"/>\n",
              "    <path d=\"M18.56 5.44l.94 2.06.94-2.06 2.06-.94-2.06-.94-.94-2.06-.94 2.06-2.06.94zm-11 1L8.5 8.5l.94-2.06 2.06-.94-2.06-.94L8.5 2.5l-.94 2.06-2.06.94zm10 10l.94 2.06.94-2.06 2.06-.94-2.06-.94-.94-2.06-.94 2.06-2.06.94z\"/><path d=\"M17.41 7.96l-1.37-1.37c-.4-.4-.92-.59-1.43-.59-.52 0-1.04.2-1.43.59L10.3 9.45l-7.72 7.72c-.78.78-.78 2.05 0 2.83L4 21.41c.39.39.9.59 1.41.59.51 0 1.02-.2 1.41-.59l7.78-7.78 2.81-2.81c.8-.78.8-2.07 0-2.86zM5.41 20L4 18.59l7.72-7.72 1.47 1.35L5.41 20z\"/>\n",
              "  </svg>\n",
              "      </button>\n",
              "      \n",
              "  <style>\n",
              "    .colab-df-container {\n",
              "      display:flex;\n",
              "      flex-wrap:wrap;\n",
              "      gap: 12px;\n",
              "    }\n",
              "\n",
              "    .colab-df-convert {\n",
              "      background-color: #E8F0FE;\n",
              "      border: none;\n",
              "      border-radius: 50%;\n",
              "      cursor: pointer;\n",
              "      display: none;\n",
              "      fill: #1967D2;\n",
              "      height: 32px;\n",
              "      padding: 0 0 0 0;\n",
              "      width: 32px;\n",
              "    }\n",
              "\n",
              "    .colab-df-convert:hover {\n",
              "      background-color: #E2EBFA;\n",
              "      box-shadow: 0px 1px 2px rgba(60, 64, 67, 0.3), 0px 1px 3px 1px rgba(60, 64, 67, 0.15);\n",
              "      fill: #174EA6;\n",
              "    }\n",
              "\n",
              "    [theme=dark] .colab-df-convert {\n",
              "      background-color: #3B4455;\n",
              "      fill: #D2E3FC;\n",
              "    }\n",
              "\n",
              "    [theme=dark] .colab-df-convert:hover {\n",
              "      background-color: #434B5C;\n",
              "      box-shadow: 0px 1px 3px 1px rgba(0, 0, 0, 0.15);\n",
              "      filter: drop-shadow(0px 1px 2px rgba(0, 0, 0, 0.3));\n",
              "      fill: #FFFFFF;\n",
              "    }\n",
              "  </style>\n",
              "\n",
              "      <script>\n",
              "        const buttonEl =\n",
              "          document.querySelector('#df-d926f257-146e-483b-9a16-78bdd99ce33d button.colab-df-convert');\n",
              "        buttonEl.style.display =\n",
              "          google.colab.kernel.accessAllowed ? 'block' : 'none';\n",
              "\n",
              "        async function convertToInteractive(key) {\n",
              "          const element = document.querySelector('#df-d926f257-146e-483b-9a16-78bdd99ce33d');\n",
              "          const dataTable =\n",
              "            await google.colab.kernel.invokeFunction('convertToInteractive',\n",
              "                                                     [key], {});\n",
              "          if (!dataTable) return;\n",
              "\n",
              "          const docLinkHtml = 'Like what you see? Visit the ' +\n",
              "            '<a target=\"_blank\" href=https://colab.research.google.com/notebooks/data_table.ipynb>data table notebook</a>'\n",
              "            + ' to learn more about interactive tables.';\n",
              "          element.innerHTML = '';\n",
              "          dataTable['output_type'] = 'display_data';\n",
              "          await google.colab.output.renderOutput(dataTable, element);\n",
              "          const docLink = document.createElement('div');\n",
              "          docLink.innerHTML = docLinkHtml;\n",
              "          element.appendChild(docLink);\n",
              "        }\n",
              "      </script>\n",
              "    </div>\n",
              "  </div>\n",
              "  "
            ]
          },
          "metadata": {},
          "execution_count": 68
        }
      ]
    },
    {
      "cell_type": "code",
      "execution_count": null,
      "metadata": {
        "colab": {
          "base_uri": "https://localhost:8080/",
          "height": 461
        },
        "id": "09CasBwrBhF8",
        "outputId": "d0a200b8-1243-4771-d3b9-3178229e58f9"
      },
      "outputs": [
        {
          "output_type": "execute_result",
          "data": {
            "text/plain": [
              "<matplotlib.axes._subplots.AxesSubplot at 0x7f6c7e3453d0>"
            ]
          },
          "metadata": {},
          "execution_count": 69
        },
        {
          "output_type": "display_data",
          "data": {
            "text/plain": [
              "<Figure size 720x360 with 1 Axes>"
            ],
            "image/png": "[encoded data removed]"
          },
          "metadata": {
            "needs_background": "light"
          }
        }
      ],
      "source": [
        "dataset_df[dataset_df[\"tag\"]!=\"O\"][\"tag\"].value_counts().plot(kind=\"bar\", figsize=(10,5))"
      ]
    },
    {
      "cell_type": "code",
      "execution_count": null,
      "metadata": {
        "colab": {
          "base_uri": "https://localhost:8080/"
        },
        "id": "O0clrIuUr3eW",
        "outputId": "7a31ae7d-c4a1-4d98-c9f3-9ed35078184c"
      },
      "outputs": [
        {
          "output_type": "stream",
          "name": "stdout",
          "text": [
            "Number of unique tag is 20\n",
            "Number of unique word is 5168\n"
          ]
        }
      ],
      "source": [
        "print(f\"Number of unique tag is {len(tag_to_ix)-2}\")\n",
        "print(f\"Number of unique word is {len(word_to_ix)}\")"
      ]
    },
    {
      "cell_type": "code",
      "execution_count": null,
      "metadata": {
        "id": "GsSweX5Gr5D5"
      },
      "outputs": [],
      "source": [
        "full_text = \"\"\n",
        "\n",
        "for word in word_to_ix.keys():\n",
        "  full_text += word\n",
        "  full_text += \" \"\n",
        "\n",
        "int2char = dict(enumerate(set(full_text)))\n",
        "char2int = {ch: ii for ii, ch in int2char.items()}\n",
        "int2char[len(char2int)] = 'UNK'\n",
        "char2int['UNK'] = len(char2int)\n",
        "\n",
        "list_of_pos = {\n",
        "    'X': 0,  #<Unk>\n",
        "    'A': 1,\n",
        "    'C': 2,\n",
        "    'E': 3,\n",
        "    'I': 4,\n",
        "    'L': 5,\n",
        "    'M': 6,\n",
        "    'N': 7,\n",
        "    'Nc': 8,\n",
        "    'Ny': 9,\n",
        "    'Np': 10,\n",
        "    'Nu': 11,\n",
        "    'P': 12,\n",
        "    'R': 13,\n",
        "    'S': 14,\n",
        "    'T': 15,\n",
        "    'V': 16,\n",
        "    'F': 17\n",
        "}\n",
        "\n",
        "def one_hot_encode(index, n_labels):\n",
        "    one_hot = [0] * n_labels\n",
        "    one_hot[index] = 1\n",
        "    return one_hot"
      ]
    },
    {
      "cell_type": "code",
      "source": [
        "print(char2int)"
      ],
      "metadata": {
        "colab": {
          "base_uri": "https://localhost:8080/"
        },
        "id": "LTyjl-qasdz8",
        "outputId": "64a73d3a-9651-42fc-faf9-09b2559cd633"
      },
      "execution_count": null,
      "outputs": [
        {
          "output_type": "stream",
          "name": "stdout",
          "text": [
            "{'I': 0, 'é': 1, 'ỡ': 2, 'ố': 3, 'Ă': 4, 'ằ': 5, 'ề': 6, '￼': 7, 'G': 8, 'Ả': 9, 'ậ': 10, 'ỵ': 11, 'E': 12, 'z': 13, 'r': 14, 'h': 15, 'Ổ': 16, 'í': 17, '&': 18, 'N': 19, 'ụ': 20, 'X': 21, 'ợ': 22, '_': 23, 'Ễ': 24, 'g': 25, ':': 26, 'H': 27, 'Ô': 28, 'S': 29, '/': 30, 'ả': 31, 'ạ': 32, 'ẻ': 33, 'o': 34, '5': 35, 'ắ': 36, 'u': 37, 'Ú': 38, 'Q': 39, 'ỹ': 40, 'Ư': 41, 's': 42, 'ê': 43, '2': 44, 'à': 45, 'Á': 46, 'C': 47, 'k': 48, 'ữ': 49, 'ỗ': 50, '.': 51, '…': 52, 'ọ': 53, 'ẳ': 54, 'n': 55, 'l': 56, '1': 57, 'L': 58, '4': 59, 'V': 60, 'è': 61, 'Y': 62, 'ổ': 63, ' ': 64, 'đ': 65, ';': 66, '?': 67, 'ă': 68, 'W': 69, 'ẩ': 70, ')': 71, 'ừ': 72, 'w': 73, 'Â': 74, '8': 75, 'Ĩ': 76, 'ỳ': 77, 'ẵ': 78, '7': 79, 'ó': 80, 'ặ': 81, 'ỷ': 82, 'á': 83, 'B': 84, 'ở': 85, 'ỉ': 86, 'ầ': 87, 'ã': 88, 'Í': 89, 'x': 90, 'Ở': 91, '9': 92, 'D': 93, 'e': 94, '3': 95, 'ễ': 96, '\"': 97, 'ộ': 98, 'ự': 99, 'J': 100, 'õ': 101, 'Ấ': 102, 'p': 103, '\\u200b': 104, 'ẹ': 105, 'ủ': 106, '*': 107, 'ô': 108, '+': 109, 'Ý': 110, 'ơ': 111, '-': 112, 'ứ': 113, 'ĩ': 114, '%': 115, 'Đ': 116, 'T': 117, 'À': 118, 'ệ': 119, '6': 120, '“': 121, 'F': 122, 'â': 123, '0': 124, 'ị': 125, 'P': 126, 'Ệ': 127, 'ẫ': 128, '”': 129, 'ư': 130, 'ũ': 131, 'v': 132, '–': 133, \"'\": 134, 'ẽ': 135, 'K': 136, 'ì': 137, 'y': 138, 't': 139, 'i': 140, 'Z': 141, ',': 142, 'ú': 143, 'ờ': 144, 'ò': 145, 'ồ': 146, 'ý': 147, 'O': 148, 'ế': 149, 'q': 150, 'U': 151, 'ấ': 152, 'R': 153, 'ử': 154, 'b': 155, 'ớ': 156, 'ù': 157, 'ỏ': 158, 'a': 159, 'm': 160, '°': 161, 'd': 162, '(': 163, 'c': 164, 'ể': 165, 'M': 166, 'f': 167, 'A': 168, 'UNK': 169}\n"
          ]
        }
      ]
    },
    {
      "cell_type": "code",
      "execution_count": null,
      "metadata": {
        "id": "o5kiC7W_ajY5"
      },
      "outputs": [],
      "source": [
        "training_data = []\n",
        "for sent, tag in zip(trainset['sent'].tolist(), trainset['anno'].tolist()):\n",
        "  list_word = sent.split()\n",
        "  embed = []\n",
        "  sequence_pos = []\n",
        "  list_tag = [tag_to_ix[t] for t in tag.split()]\n",
        "  sequence_char = []\n",
        "  for word in list_word:\n",
        "    embed.append(loaded_dict[word])\n",
        "    temp = []\n",
        "    for ch in list(word):\n",
        "      temp.append(char2int[ch])\n",
        "    sequence_char.append(temp)\n",
        "  for pos in ViPosTagger.postagging(sent)[1]:\n",
        "    sequence_pos.append(one_hot_encode(list_of_pos[pos], len(list_of_pos)))\n",
        "\n",
        "  training_data.append((list_word, embed, list_tag, sequence_pos, sequence_char))"
      ]
    },
    {
      "cell_type": "code",
      "source": [
        "validating_data = []\n",
        "for sent, tag in zip(validset['sent'].tolist(), validset['anno'].tolist()):\n",
        "  list_word = sent.split()\n",
        "  embed = []\n",
        "  sequence_pos = []\n",
        "  list_tag = [tag_to_ix[t] for t in tag.split()]\n",
        "  sequence_char = []\n",
        "  for word in list_word:\n",
        "    if word not in loaded_dict:\n",
        "      embed.append(loaded_dict['UNK'])\n",
        "    else:\n",
        "      embed.append(loaded_dict[word])\n",
        "    temp = []\n",
        "    for ch in list(word):\n",
        "      if ch not in char2int:\n",
        "        temp.append(char2int['UNK'])\n",
        "      else:\n",
        "        temp.append(char2int[ch])\n",
        "    sequence_char.append(temp)\n",
        "  for pos in ViPosTagger.postagging(sent)[1]:\n",
        "    sequence_pos.append(one_hot_encode(list_of_pos[pos], len(list_of_pos)))\n",
        "\n",
        "  validating_data.append((list_word, embed, list_tag, sequence_pos, sequence_char))"
      ],
      "metadata": {
        "id": "bKNE205GzJZ6"
      },
      "execution_count": null,
      "outputs": []
    },
    {
      "cell_type": "code",
      "source": [
        "testing_data = []\n",
        "for sent, tag in zip(testset['sent'].tolist(), testset['anno'].tolist()):\n",
        "  list_word = sent.split()\n",
        "  embed = []\n",
        "  sequence_pos = []\n",
        "  list_tag = [tag_to_ix[t] for t in tag.split()]\n",
        "  sequence_char = []\n",
        "  for word in list_word:\n",
        "    if word not in loaded_dict:\n",
        "      embed.append(loaded_dict['UNK'])\n",
        "    else:\n",
        "      embed.append(loaded_dict[word])\n",
        "    temp = []\n",
        "    for ch in list(word):\n",
        "      if ch not in char2int:\n",
        "        temp.append(char2int['UNK'])\n",
        "      else:\n",
        "        temp.append(char2int[ch])\n",
        "    sequence_char.append(temp)\n",
        "  for pos in ViPosTagger.postagging(sent)[1]:\n",
        "    sequence_pos.append(one_hot_encode(list_of_pos[pos], len(list_of_pos)))\n",
        "  testing_data.append((list_word, embed, list_tag, sequence_pos, sequence_char))"
      ],
      "metadata": {
        "id": "LmURFw1hvEYB"
      },
      "execution_count": null,
      "outputs": []
    },
    {
      "cell_type": "code",
      "execution_count": null,
      "metadata": {
        "colab": {
          "base_uri": "https://localhost:8080/"
        },
        "id": "-yaXyYIFdwhb",
        "outputId": "f615b163-e3d9-4575-8f02-118aa7e70f16"
      },
      "outputs": [
        {
          "output_type": "stream",
          "name": "stdout",
          "text": [
            "['Hôm_qua', ',', 'hai', 'bệnh_nhân', 'Covid', '-', '19', 'cũng', 'tử_vong', ',', 'có', 'bệnh', 'nền', 'suy', 'thận', 'mạn', '.']\n",
            "[2, 2, 2, 2, 2, 2, 2, 2, 2, 2, 2, 2, 2, 5, 6, 6, 2]\n",
            "[[0, 0, 0, 0, 0, 0, 0, 1, 0, 0, 0, 0, 0, 0, 0, 0, 0, 0], [0, 0, 0, 0, 0, 0, 0, 0, 0, 0, 0, 0, 0, 0, 0, 0, 0, 1], [0, 0, 0, 0, 0, 0, 1, 0, 0, 0, 0, 0, 0, 0, 0, 0, 0, 0], [0, 0, 0, 0, 0, 0, 0, 1, 0, 0, 0, 0, 0, 0, 0, 0, 0, 0], [0, 0, 0, 0, 0, 0, 0, 0, 0, 0, 1, 0, 0, 0, 0, 0, 0, 0], [0, 0, 0, 0, 0, 0, 0, 0, 0, 0, 0, 0, 0, 0, 0, 0, 0, 1], [0, 0, 0, 0, 0, 0, 1, 0, 0, 0, 0, 0, 0, 0, 0, 0, 0, 0], [0, 0, 0, 0, 0, 0, 0, 0, 0, 0, 0, 0, 0, 1, 0, 0, 0, 0], [0, 0, 0, 0, 0, 0, 0, 0, 0, 0, 0, 0, 0, 0, 0, 0, 1, 0], [0, 0, 0, 0, 0, 0, 0, 0, 0, 0, 0, 0, 0, 0, 0, 0, 0, 1], [0, 0, 0, 0, 0, 0, 0, 0, 0, 0, 0, 0, 0, 0, 0, 0, 1, 0], [0, 0, 0, 0, 0, 0, 0, 1, 0, 0, 0, 0, 0, 0, 0, 0, 0, 0], [0, 0, 0, 0, 0, 0, 0, 1, 0, 0, 0, 0, 0, 0, 0, 0, 0, 0], [0, 0, 0, 0, 0, 0, 0, 0, 0, 0, 0, 0, 0, 0, 0, 0, 1, 0], [0, 0, 0, 0, 0, 0, 0, 1, 0, 0, 0, 0, 0, 0, 0, 0, 0, 0], [0, 0, 0, 0, 0, 0, 0, 1, 0, 0, 0, 0, 0, 0, 0, 0, 0, 0], [0, 0, 0, 0, 0, 0, 0, 0, 0, 0, 0, 0, 0, 0, 0, 0, 0, 1]]\n",
            "[[27, 108, 160, 23, 150, 37, 159], [142], [15, 159, 140], [155, 119, 55, 15, 23, 55, 15, 123, 55], [47, 34, 132, 140, 162], [112], [57, 92], [164, 131, 55, 25], [139, 154, 23, 132, 34, 55, 25], [142], [164, 80], [155, 119, 55, 15], [55, 6, 55], [42, 37, 138], [139, 15, 10, 55], [160, 32, 55], [51]]\n"
          ]
        }
      ],
      "source": [
        "print(training_data[10][0])\n",
        "print(training_data[10][2])\n",
        "print(training_data[10][3])\n",
        "print(training_data[10][4])"
      ]
    },
    {
      "cell_type": "code",
      "execution_count": null,
      "metadata": {
        "colab": {
          "base_uri": "https://localhost:8080/"
        },
        "id": "85a6WjochJJD",
        "outputId": "74d962c6-d5d1-4da2-cce6-b3d8be846dd6"
      },
      "outputs": [
        {
          "output_type": "stream",
          "name": "stdout",
          "text": [
            "5027\n",
            "1000\n",
            "4000\n"
          ]
        }
      ],
      "source": [
        "print(len(training_data))\n",
        "print(len(validating_data))\n",
        "print(len(testing_data))"
      ]
    },
    {
      "cell_type": "markdown",
      "metadata": {
        "id": "2q9B5DO2B7no"
      },
      "source": [
        "# Model"
      ]
    },
    {
      "cell_type": "code",
      "execution_count": null,
      "metadata": {
        "id": "hG5iXG8V7vhc"
      },
      "outputs": [],
      "source": [
        "def argmax(vec):\n",
        "    _, idx = torch.max(vec, 1)\n",
        "    return idx.item()\n",
        "\n",
        "def log_sum_exp(vec):\n",
        "    max_score = vec[0, argmax(vec)]\n",
        "    max_score_broadcast = max_score.view(1, -1).expand(1, vec.size()[1])\n",
        "    return max_score + torch.log(torch.sum(torch.exp(vec - max_score_broadcast)))\n",
        "\n",
        "def generate_batch(df, size):\n",
        "    sent_list = []\n",
        "    embeds_list = []\n",
        "    tags_list = []\n",
        "    pos_list = []\n",
        "    char_list = []\n",
        "    for item in df:\n",
        "        sent_list.append(item[0])\n",
        "        embeds_list += item[1]\n",
        "        tags_list += item[2]\n",
        "        pos_list += item[3]\n",
        "        char_list += item[4]\n",
        "        if len(sent_list) == size:\n",
        "            yield sent_list, embeds_list, tags_list, pos_list, char_list\n",
        "            sent_list = []\n",
        "            embeds_list = []\n",
        "            tags_list = []\n",
        "            pos_list = []\n",
        "            char_list = []\n",
        "            \n",
        "class CharEmbedding(nn.Module):\n",
        "  def __init__(self, embeddingSize ,hiddenSize, charSize):\n",
        "    super(CharEmbedding, self).__init__()\n",
        "    self.embeddingSize = embeddingSize\n",
        "    self.hiddenSize = hiddenSize\n",
        "    self.embed = nn.Embedding(charSize, embeddingSize)\n",
        "    self.BiLSTM = nn.LSTM(embeddingSize, hiddenSize, batch_first = True, bidirectional=True)\n",
        "\n",
        "  def forward(self, sentence):\n",
        "    embeddingMatrix = torch.empty(size = (len(sentence), self.hiddenSize*2))\n",
        "    hidden, cell = (torch.randn(2, 1, self.hiddenSize),\n",
        "                    torch.randn(2, 1, self.hiddenSize))\n",
        "    for i, word in enumerate(sentence):\n",
        "      for char in word:\n",
        "        embeds = self.embed(torch.tensor(char))\n",
        "        out, (hidden, cell) = self.BiLSTM(embeds.view(1, 1, -1), (hidden, cell))\n",
        "      embeddingMatrix[i] = out\n",
        "    return embeddingMatrix\n",
        "\n",
        "class BiLSTM_CRF(nn.Module):\n",
        "\n",
        "    def __init__(self, vocab_size, tag_to_ix, embedding_dim, hidden_dim):\n",
        "        super(BiLSTM_CRF, self).__init__()\n",
        "        self.embedding_dim = embedding_dim\n",
        "        self.hidden_dim = hidden_dim\n",
        "        self.vocab_size = vocab_size\n",
        "        self.tag_to_ix = tag_to_ix\n",
        "        self.tagset_size = len(tag_to_ix)\n",
        "\n",
        "        self.lstm = nn.LSTM(embedding_dim, hidden_dim // 2,num_layers=1, bidirectional=True)\n",
        "\n",
        "        # Maps the output of the LSTM into tag space.\n",
        "        self.hidden2tag = nn.Linear(hidden_dim, self.tagset_size)\n",
        "\n",
        "        # Matrix of transition parameters.  Entry i,j is the score of\n",
        "        # transitioning *to* i *from* j.\n",
        "        self.transitions = nn.Parameter(torch.randn(self.tagset_size, self.tagset_size))\n",
        "\n",
        "        # These two statements enforce the constraint that we never transfer\n",
        "        # to the start tag and we never transfer from the stop tag\n",
        "        self.transitions.data[tag_to_ix[START_TAG], :] = -10000\n",
        "        self.transitions.data[:, tag_to_ix[STOP_TAG]] = -10000\n",
        "\n",
        "        self.hidden = self.init_hidden()\n",
        "\n",
        "    def init_hidden(self):\n",
        "        hidden = (torch.randn(2, 1, self.hidden_dim // 2),torch.randn(2, 1, self.hidden_dim // 2))\n",
        "        return hidden\n",
        "\n",
        "    def _forward_alg(self, feats):\n",
        "        # Do the forward algorithm to compute the partition function\n",
        "        init_alphas = torch.full((1, self.tagset_size), -10000.)\n",
        "        # START_TAG has all of the score.\n",
        "        init_alphas[0][self.tag_to_ix[START_TAG]] = 0.\n",
        "\n",
        "        # Wrap in a variable so that we will get automatic backprop\n",
        "        forward_var = init_alphas\n",
        "        forward_var = forward_var\n",
        "        # Iterate through the sentence\n",
        "        for feat in feats:\n",
        "            alphas_t = []  # The forward tensors at this timestep\n",
        "            for next_tag in range(self.tagset_size):\n",
        "                # broadcast the emission score: it is the same regardless of\n",
        "                # the previous tag\n",
        "                emit_score = feat[next_tag].view(1, -1).expand(1, self.tagset_size)\n",
        "                # the ith entry of trans_score is the score of transitioning to\n",
        "                # next_tag from i\n",
        "                trans_score = self.transitions[next_tag].view(1, -1)\n",
        "                # The ith entry of next_tag_var is the value for the\n",
        "                # edge (i -> next_tag) before we do log-sum-exp\n",
        "                next_tag_var = forward_var + trans_score + emit_score\n",
        "                # The forward variable for this tag is log-sum-exp of all the\n",
        "                # scores.\n",
        "                alphas_t.append(log_sum_exp(next_tag_var).view(1))\n",
        "            forward_var = torch.cat(alphas_t).view(1, -1)\n",
        "        terminal_var = forward_var + self.transitions[self.tag_to_ix[STOP_TAG]]\n",
        "        alpha = log_sum_exp(terminal_var)\n",
        "        return alpha\n",
        "\n",
        "    def _get_lstm_features(self, sentence):\n",
        "        self.hidden = self.init_hidden()\n",
        "        embeds = sentence.view(len(sentence), 1, -1)     #self.word_embeds(sentence).view(len(sentence), 1, -1)\n",
        "        lstm_out, self.hidden = self.lstm(embeds, self.hidden)\n",
        "        lstm_out = lstm_out.view(len(sentence), self.hidden_dim)\n",
        "        lstm_feats = self.hidden2tag(lstm_out)\n",
        "        return lstm_feats\n",
        "\n",
        "    def _score_sentence(self, feats, tags):\n",
        "        # Gives the score of a provided tag sequence\n",
        "        score = torch.zeros(1)\n",
        "        tags = torch.cat([torch.tensor([self.tag_to_ix[START_TAG]], dtype=torch.long), tags])\n",
        "        for i, feat in enumerate(feats):\n",
        "            score = score + self.transitions[tags[i + 1], tags[i]] + feat[tags[i + 1]]\n",
        "        score = score + self.transitions[self.tag_to_ix[STOP_TAG], tags[-1]]\n",
        "        return score\n",
        "\n",
        "    def _viterbi_decode(self, feats):\n",
        "        backpointers = []\n",
        "\n",
        "        # Initialize the viterbi variables in log space\n",
        "        init_vvars = torch.full((1, self.tagset_size), -10000.)\n",
        "        init_vvars[0][self.tag_to_ix[START_TAG]] = 0\n",
        "\n",
        "        # forward_var at step i holds the viterbi variables for step i-1\n",
        "        forward_var = init_vvars\n",
        "        forward_var = forward_var\n",
        "        \n",
        "        for feat in feats:\n",
        "            bptrs_t = []  # holds the backpointers for this step\n",
        "            viterbivars_t = []  # holds the viterbi variables for this step\n",
        "\n",
        "            for next_tag in range(self.tagset_size):\n",
        "                # next_tag_var[i] holds the viterbi variable for tag i at the\n",
        "                # previous step, plus the score of transitioning\n",
        "                # from tag i to next_tag.\n",
        "                # We don't include the emission scores here because the max\n",
        "                # does not depend on them (we add them in below)\n",
        "                \n",
        "                next_tag_var = forward_var + self.transitions[next_tag]\n",
        "                best_tag_id = argmax(next_tag_var)\n",
        "                bptrs_t.append(best_tag_id)\n",
        "                viterbivars_t.append(next_tag_var[0][best_tag_id].view(1))\n",
        "            # Now add in the emission scores, and assign forward_var to the set\n",
        "            # of viterbi variables we just computed\n",
        "            forward_var = (torch.cat(viterbivars_t) + feat).view(1, -1)\n",
        "            backpointers.append(bptrs_t)\n",
        "\n",
        "        # Transition to STOP_TAG\n",
        "        terminal_var = forward_var + self.transitions[self.tag_to_ix[STOP_TAG]]\n",
        "        best_tag_id = argmax(terminal_var)\n",
        "        path_score = terminal_var[0][best_tag_id]\n",
        "\n",
        "        # Follow the back pointers to decode the best path.\n",
        "        best_path = [best_tag_id]\n",
        "        for bptrs_t in reversed(backpointers):\n",
        "            best_tag_id = bptrs_t[best_tag_id]\n",
        "            best_path.append(best_tag_id)\n",
        "        # Pop off the start tag (we dont want to return that to the caller)\n",
        "        start = best_path.pop()\n",
        "        assert start == self.tag_to_ix[START_TAG]  # Sanity check\n",
        "        best_path.reverse()\n",
        "        return path_score, best_path\n",
        "\n",
        "    def neg_log_likelihood(self, sentence, tags):\n",
        "        feats = self._get_lstm_features(sentence)\n",
        "        forward_score = self._forward_alg(feats)\n",
        "        gold_score = self._score_sentence(feats, tags)\n",
        "        return forward_score - gold_score\n",
        "\n",
        "    def forward(self, sentence):  # dont confuse this with _forward_alg above.\n",
        "        # Get the emission scores from the BiLSTM\n",
        "        lstm_feats = self._get_lstm_features(sentence)\n",
        "\n",
        "        # Find the best path, given the features.\n",
        "        score, tag_seq = self._viterbi_decode(lstm_feats)\n",
        "        return score, tag_seq"
      ]
    },
    {
      "cell_type": "markdown",
      "source": [
        "# WordEmbedding"
      ],
      "metadata": {
        "id": "kv692Uun9Zm0"
      }
    },
    {
      "cell_type": "code",
      "source": [
        "EMBEDDING_DIM = 100\n",
        "HIDDEN_DIM = 200\n",
        "\n",
        "#char\n",
        "embeddingSize = 10\n",
        "hiddenSize = 25\n",
        "charSize = len(char2int)\n",
        "\n",
        "EPOCHS = 10\n",
        "BATCH_SIZE = 32\n",
        "LEARNING_RATE = 1e-3"
      ],
      "metadata": {
        "id": "RCxqUu0I9ijk"
      },
      "execution_count": null,
      "outputs": []
    },
    {
      "cell_type": "code",
      "source": [
        "model = BiLSTM_CRF(len(word_to_ix), tag_to_ix, EMBEDDING_DIM, HIDDEN_DIM)\n",
        "optimizer = optim.Adam(model.parameters(), lr = LEARNING_RATE)"
      ],
      "metadata": {
        "id": "H9SqNATX-tVN"
      },
      "execution_count": null,
      "outputs": []
    },
    {
      "cell_type": "code",
      "source": [
        "import time\n",
        "\n",
        "patience = 2\n",
        "trigger = 0\n",
        "\n",
        "list_word = []\n",
        "list_tag = []\n",
        "\n",
        "for i in range(len(validating_data)):\n",
        "    list_word.extend(validating_data[i][1])\n",
        "    list_tag.extend(validating_data[i][2])\n",
        "\n",
        "with torch.no_grad():\n",
        "  test = torch.tensor(list_word, dtype = torch.float32)\n",
        "  last_loss = model.neg_log_likelihood(test, torch.tensor(list_tag)).item()\n",
        "  print(f\"Validation Loss before training: {last_loss}\")\n",
        "for epoch in range(EPOCHS):\n",
        "    print(f\"Epoch: {epoch+1}/{EPOCHS}\")\n",
        "    start_time = time.time()\n",
        "\n",
        "    for index, (sent, embeds, tags, pos, char) in enumerate(generate_batch(training_data, BATCH_SIZE)):\n",
        "        model.zero_grad()\n",
        "\n",
        "        inputs = torch.tensor(embeds, dtype = torch.float32)\n",
        "        targets = torch.tensor(tags)\n",
        "        \n",
        "        train_loss = model.neg_log_likelihood(inputs, targets)\n",
        "        train_loss.backward()\n",
        "        optimizer.step()\n",
        "      \n",
        "        print(index, end = \" \")\n",
        "        if index % 5 == 0:\n",
        "          torch.save(model.state_dict(), '/content/drive/MyDrive/AI/WordEmbed.pt')     \n",
        "    with torch.no_grad():\n",
        "      test = torch.tensor(list_word, dtype = torch.float32)\n",
        "      current_loss = model.neg_log_likelihood(test, torch.tensor(list_tag)).item()\n",
        "    if current_loss > last_loss:\n",
        "      trigger += 1\n",
        "    else:\n",
        "      last_loss = current_loss\n",
        "    if trigger == patience:\n",
        "      break\n",
        "    print(f\"epoch {epoch+1}/{EPOCHS} with time: {time.time() - start_time} - validloss: {current_loss}\") \n",
        "    start_time = time.time()"
      ],
      "metadata": {
        "id": "IWE1NvBo_Ud3",
        "colab": {
          "base_uri": "https://localhost:8080/"
        },
        "outputId": "aafd349a-3d4f-48f9-cdaf-bf5e3dc0ac8c"
      },
      "execution_count": null,
      "outputs": [
        {
          "output_type": "stream",
          "name": "stdout",
          "text": [
            "Validation Loss before training: 91002.3203125\n",
            "Epoch: 1/10\n",
            "0 1 2 3 4 5 6 7 8 9 10 11 12 13 14 15 16 17 18 19 20 21 22 23 24 25 26 27 28 29 30 31 32 33 34 35 36 37 38 39 40 41 42 43 44 45 46 47 48 49 50 51 52 53 54 55 56 57 58 59 60 61 62 63 64 65 66 67 68 69 70 71 72 73 74 75 76 77 78 79 80 81 82 83 84 85 86 87 88 89 90 91 92 93 94 95 96 97 98 99 100 101 102 103 104 105 106 107 108 109 110 111 112 113 114 115 116 117 118 119 120 121 122 123 124 125 126 127 128 129 130 131 132 133 134 135 136 137 138 139 140 141 142 143 144 145 146 147 148 149 150 151 152 153 154 155 156 epoch 1/10 with time: 1006.3140444755554 - validloss: 34643.6796875\n",
            "Epoch: 2/10\n",
            "0 1 2 3 4 5 6 7 8 9 10 11 12 13 14 15 16 17 18 19 20 21 22 23 24 25 26 27 28 29 30 31 32 33 34 35 36 37 38 39 40 41 42 43 44 45 46 47 48 49 50 51 52 53 54 55 56 57 58 59 60 61 62 63 64 65 66 67 68 69 70 71 72 73 74 75 76 77 78 79 80 81 82 83 84 85 86 87 88 89 90 91 92 93 94 95 96 97 98 99 100 101 102 103 104 105 106 107 108 109 110 111 112 113 114 115 116 117 118 119 120 121 122 123 124 125 126 127 128 129 130 131 132 133 134 135 136 137 138 139 140 141 142 143 144 145 146 147 148 149 150 151 152 153 154 155 156 epoch 2/10 with time: 1008.781685590744 - validloss: 23910.828125\n",
            "Epoch: 3/10\n",
            "0 1 2 3 4 5 6 7 8 9 10 11 12 13 14 15 16 17 18 19 20 21 22 23 24 25 26 27 28 29 30 31 32 33 34 35 36 37 38 39 40 41 42 43 44 45 46 47 48 49 50 51 52 53 54 55 56 57 58 59 60 61 62 63 64 65 66 67 68 69 70 71 72 73 74 75 76 77 78 79 80 81 82 83 84 85 86 87 88 89 90 91 92 93 94 95 96 97 98 99 100 101 102 103 104 105 106 107 108 109 110 111 112 113 114 115 116 117 118 119 120 121 122 123 124 125 126 127 128 129 130 131 132 133 134 135 136 137 138 139 140 141 142 143 144 145 146 147 148 149 150 151 152 153 154 155 156 epoch 3/10 with time: 1008.945996761322 - validloss: 18385.6484375\n",
            "Epoch: 4/10\n",
            "0 1 2 3 4 5 6 7 8 9 10 11 12 13 14 15 16 17 18 19 20 21 22 23 24 25 26 27 28 29 30 31 32 33 34 35 36 37 38 39 40 41 42 43 44 45 46 47 48 49 50 51 52 53 54 55 56 57 58 59 60 61 62 63 64 65 66 67 68 69 70 71 72 73 74 75 76 77 78 79 80 81 82 83 84 85 86 87 88 89 90 91 92 93 94 95 96 97 98 99 100 101 102 103 104 105 106 107 108 109 110 111 112 113 114 115 116 117 118 119 120 121 122 123 124 125 126 127 128 129 130 131 132 133 134 135 136 137 138 139 140 141 142 143 144 145 146 147 148 149 150 151 152 153 154 155 156 epoch 4/10 with time: 1008.101212978363 - validloss: 14988.171875\n",
            "Epoch: 5/10\n",
            "0 1 2 3 4 5 6 7 8 9 10 11 12 13 14 15 16 17 18 19 20 21 22 23 24 25 26 27 28 29 30 31 32 33 34 35 36 37 38 39 40 41 42 43 44 45 46 47 48 49 50 51 52 53 54 55 56 57 58 59 60 61 62 63 64 65 66 67 68 69 70 71 72 73 74 75 76 77 78 79 80 81 82 83 84 85 86 87 88 89 90 91 92 93 94 95 96 97 98 99 100 101 102 103 104 105 106 107 108 109 110 111 112 113 114 115 116 117 118 119 120 121 122 123 124 125 126 127 128 129 130 131 132 133 134 135 136 137 138 139 140 141 142 143 144 145 146 147 148 149 150 151 152 153 154 155 156 epoch 5/10 with time: 1014.5274240970612 - validloss: 13354.484375\n",
            "Epoch: 6/10\n",
            "0 1 2 3 4 5 6 7 8 9 10 11 12 13 14 15 16 17 18 19 20 21 22 23 24 25 26 27 28 29 30 31 32 33 34 35 36 37 38 39 40 41 42 43 44 45 46 47 48 49 50 51 52 53 54 55 56 57 58 59 60 61 62 63 64 65 66 67 68 69 70 71 72 73 74 75 76 77 78 79 80 81 82 83 84 85 86 87 88 89 90 91 92 93 94 95 96 97 98 99 100 101 102 103 104 105 106 107 108 109 110 111 112 113 114 115 116 117 118 119 120 121 122 123 124 125 126 127 128 129 130 131 132 133 134 135 136 137 138 139 140 141 142 143 144 145 146 147 148 149 150 151 152 153 154 155 156 epoch 6/10 with time: 1030.9164054393768 - validloss: 12188.765625\n",
            "Epoch: 7/10\n",
            "0 1 2 3 4 5 6 7 8 9 10 11 12 13 14 15 16 17 18 19 20 21 22 23 24 25 26 27 28 29 30 31 32 33 34 35 36 37 38 39 40 41 42 43 44 45 46 47 48 49 50 51 52 53 54 55 56 57 58 59 60 61 62 63 64 65 66 67 68 69 70 71 72 73 74 75 76 77 78 79 80 81 82 83 84 85 86 87 88 89 90 91 92 93 94 95 96 97 98 99 100 101 102 103 104 105 106 107 108 109 110 111 112 113 114 115 116 117 118 119 120 121 122 123 124 125 126 127 128 129 130 131 132 133 134 135 136 137 138 139 140 141 142 143 144 145 146 147 148 149 150 151 152 153 154 155 156 epoch 7/10 with time: 1008.1651694774628 - validloss: 11335.421875\n",
            "Epoch: 8/10\n",
            "0 1 2 3 4 5 6 7 8 9 10 11 12 13 14 15 16 17 18 19 20 21 22 23 24 25 26 27 28 29 30 31 32 33 34 35 36 37 38 39 40 41 42 43 44 45 46 47 48 49 50 51 52 53 54 55 56 57 58 59 60 61 62 63 64 65 66 67 68 69 70 71 72 73 74 75 76 77 78 79 80 81 82 83 84 85 86 87 88 89 90 91 92 93 94 95 96 97 98 99 100 101 102 103 104 105 106 107 108 109 110 111 112 113 114 115 116 117 118 119 120 121 122 123 124 125 126 127 128 129 130 131 132 133 134 135 136 137 138 139 140 141 142 143 144 145 146 147 148 149 150 151 152 153 154 155 156 epoch 8/10 with time: 1018.3073978424072 - validloss: 10707.71875\n",
            "Epoch: 9/10\n",
            "0 1 2 3 4 5 6 7 8 9 10 11 12 13 14 15 16 17 18 19 20 21 22 23 24 25 26 27 28 29 30 31 32 33 34 35 36 37 38 39 40 41 42 43 44 45 46 47 48 49 50 51 52 53 54 55 56 57 58 59 60 61 62 63 64 65 66 67 68 69 70 71 72 73 74 75 76 77 78 79 80 81 82 83 84 85 86 87 88 89 90 91 92 93 94 95 96 97 98 99 100 101 102 103 104 105 106 107 108 109 110 111 112 113 114 115 116 117 118 119 120 121 122 123 124 125 126 127 128 129 130 131 132 133 134 135 136 137 138 139 140 141 142 143 144 145 146 147 148 149 150 151 152 153 154 155 156 epoch 9/10 with time: 1021.5004639625549 - validloss: 10303.546875\n",
            "Epoch: 10/10\n",
            "0 1 2 3 4 5 6 7 8 9 10 11 12 13 14 15 16 17 18 19 20 21 22 23 24 25 26 27 28 29 30 31 32 33 34 35 36 37 38 39 40 41 42 43 44 45 46 47 48 49 50 51 52 53 54 55 56 57 58 59 60 61 62 63 64 65 66 67 68 69 70 71 72 73 74 75 76 77 78 79 80 81 82 83 84 85 86 87 88 89 90 91 92 93 94 95 96 97 98 99 100 101 102 103 104 105 106 107 108 109 110 111 112 113 114 115 116 117 118 119 120 121 122 123 124 125 126 127 128 129 130 131 132 133 134 135 136 137 138 139 140 141 142 143 144 145 146 147 148 149 150 151 152 153 154 155 156 epoch 10/10 with time: 1007.833181142807 - validloss: 9944.265625\n"
          ]
        }
      ]
    },
    {
      "cell_type": "code",
      "source": [
        "torch.save(model.state_dict(), '/content/drive/MyDrive/AI/WordEmbed.pt')"
      ],
      "metadata": {
        "id": "ltl1DEvqVZjb"
      },
      "execution_count": null,
      "outputs": []
    },
    {
      "cell_type": "markdown",
      "source": [
        "**PREDICT**"
      ],
      "metadata": {
        "id": "ij9vTLqrv0_a"
      }
    },
    {
      "cell_type": "code",
      "source": [
        "EMBEDDING_DIM = 100\n",
        "HIDDEN_DIM = 200\n",
        "\n",
        "#char\n",
        "embeddingSize = 10\n",
        "hiddenSize = 25\n",
        "charSize = len(char2int)\n",
        "\n",
        "EPOCHS = 10\n",
        "BATCH_SIZE = 32\n",
        "LEARNING_RATE = 1e-3\n",
        "\n",
        "model = BiLSTM_CRF(len(word_to_ix), tag_to_ix, EMBEDDING_DIM, HIDDEN_DIM)\n",
        "optimizer = optim.Adam(model.parameters(), lr = LEARNING_RATE)\n",
        "\n",
        "model.load_state_dict(torch.load('WordEmbed.pt'))"
      ],
      "metadata": {
        "colab": {
          "base_uri": "https://localhost:8080/"
        },
        "id": "tuBtYnmzvzf8",
        "outputId": "4d3d2c5c-0145-41f4-bcc4-bacef4b62d21"
      },
      "execution_count": null,
      "outputs": [
        {
          "output_type": "execute_result",
          "data": {
            "text/plain": [
              "<All keys matched successfully>"
            ]
          },
          "metadata": {},
          "execution_count": 32
        }
      ]
    },
    {
      "cell_type": "code",
      "source": [
        "f = open(\"predict1.txt\", \"w\", encoding=\"utf-8\")\n",
        "\n",
        "for index, (sent, embeds, tags, pos, char) in enumerate(testing_data):\n",
        "  inputs = torch.tensor(embeds, dtype=torch.float32)\n",
        "  targets = torch.tensor(tags)\n",
        "  _, pred_targets = model(inputs)\n",
        "  pred_tag = [list(tag_to_ix.keys())[list(tag_to_ix.values()).index(tag)] for tag in pred_targets]\n",
        "  true_tag = [list(tag_to_ix.keys())[list(tag_to_ix.values()).index(tag)] for tag in targets]\n",
        "  for word, tags, pred in zip(testing_data[index][0], true_tag, pred_tag):\n",
        "    f.write(\"{} a {} {}\\n\".format(word, tags, pred))"
      ],
      "metadata": {
        "id": "RQkObZ45uhAV"
      },
      "execution_count": null,
      "outputs": []
    },
    {
      "cell_type": "code",
      "source": [
        "!python conlleval.py < predict1.txt > result1.txt"
      ],
      "metadata": {
        "id": "ke06uI7JxpmP"
      },
      "execution_count": null,
      "outputs": []
    },
    {
      "cell_type": "code",
      "source": [
        "path = '/content/drive/MyDrive/AI/result1.txt'\n",
        "with open(path, 'r') as result:\n",
        "  print(result.read())"
      ],
      "metadata": {
        "colab": {
          "base_uri": "https://localhost:8080/"
        },
        "id": "W1TOCDNEyKEr",
        "outputId": "996fea48-d00b-49cc-c118-9ab4e1ce9e27"
      },
      "execution_count": null,
      "outputs": [
        {
          "output_type": "stream",
          "name": "stdout",
          "text": [
            "processed 108242 tokens with 14482 phrases; found: 11756 phrases; correct: 10127.\n",
            "accuracy:  70.48%; (non-O)\n",
            "accuracy:  91.63%; precision:  86.14%; recall:  69.93%; FB1:  77.19\n",
            "              AGE: precision:  91.26%; recall:  90.88%; FB1:  91.07  721\n",
            "             DATE: precision:  88.06%; recall:  79.04%; FB1:  83.30  1884\n",
            "           GENDER: precision:  93.97%; recall:  89.24%; FB1:  91.54  547\n",
            "              JOB: precision:  53.06%; recall:  11.93%; FB1:  19.48  49\n",
            "         LOCATION: precision:  86.52%; recall:  67.72%; FB1:  75.97  4183\n",
            "             NAME: precision:  86.67%; recall:  20.86%; FB1:  33.62  90\n",
            "     ORGANIZATION: precision:  66.40%; recall:  58.29%; FB1:  62.08  863\n",
            "       PATIENT_ID: precision:  90.50%; recall:  83.00%; FB1:  86.59  2326\n",
            "SYMPTOM_AND_DISEASE: precision:  80.81%; recall:  53.51%; FB1:  64.39  933\n",
            "   TRANSPORTATION: precision:  88.12%; recall:  64.38%; FB1:  74.41  160\n",
            "\n"
          ]
        }
      ]
    },
    {
      "cell_type": "markdown",
      "source": [
        "# WordEmbedding + Char"
      ],
      "metadata": {
        "id": "gfjTHSWYWSP9"
      }
    },
    {
      "cell_type": "code",
      "source": [
        "EMBEDDING_DIM = 150\n",
        "HIDDEN_DIM = 200\n",
        "\n",
        "#char\n",
        "embeddingSize = 10\n",
        "hiddenSize = 25\n",
        "charSize = len(char2int)\n",
        "\n",
        "EPOCHS = 30\n",
        "BATCH_SIZE = 32\n",
        "LEARNING_RATE = 1e-3"
      ],
      "metadata": {
        "id": "HclQQrv0WVE3"
      },
      "execution_count": null,
      "outputs": []
    },
    {
      "cell_type": "code",
      "source": [
        "charModel = CharEmbedding(embeddingSize, hiddenSize, charSize)\n",
        "model = BiLSTM_CRF(len(word_to_ix), tag_to_ix, EMBEDDING_DIM, HIDDEN_DIM)\n",
        "\n",
        "optimizer = optim.Adam([\n",
        "                {'params': model.parameters()},\n",
        "                {'params': charModel.parameters(), 'lr': 1e-3}\n",
        "            ], lr=1e-3)"
      ],
      "metadata": {
        "id": "pljNpgnxWxJ5"
      },
      "execution_count": null,
      "outputs": []
    },
    {
      "cell_type": "code",
      "source": [
        "import time\n",
        "\n",
        "patience = 2\n",
        "trigger = 0\n",
        "\n",
        "list_word = []\n",
        "list_tag = []\n",
        "list_char = []\n",
        "for i in range(len(validating_data)):\n",
        "    list_char.extend(validating_data[i][-1])\n",
        "    list_word.extend(validating_data[i][1])\n",
        "    list_tag.extend(validating_data[i][2])\n",
        "\n",
        "with torch.no_grad():\n",
        "  out = charModel(list_char)\n",
        "  test = torch.cat((torch.tensor(list_word, dtype = torch.float32), out), dim = 1)\n",
        "  last_loss = model.neg_log_likelihood(test, torch.tensor(list_tag)).item()\n",
        "  print(f\"Validation Loss before training: {last_loss}\")\n",
        "for epoch in range(EPOCHS):\n",
        "    print(f\"Epoch: {epoch+1}/{EPOCHS}\")\n",
        "    start_time = time.time()\n",
        "\n",
        "    for index, (sent, embeds, tags, pos, char) in enumerate(generate_batch(training_data, BATCH_SIZE)):\n",
        "        model.zero_grad()\n",
        "        charModel.zero_grad()\n",
        "\n",
        "        embeds = torch.tensor(embeds, dtype = torch.float32)\n",
        "        char = charModel(char)\n",
        "        inputs = torch.cat((embeds, char), dim=1)\n",
        "\n",
        "        targets = torch.tensor(tags)\n",
        "\n",
        "        train_loss = model.neg_log_likelihood(inputs, targets)\n",
        "        train_loss.backward()\n",
        "        optimizer.step()\n",
        "      \n",
        "        print(index, end = \" \")\n",
        "        if index % 5 == 0:\n",
        "          torch.save(model.state_dict(), '/content/drive/MyDrive/AI/WordEmbedChar.pt')\n",
        "          torch.save(charModel.state_dict(), '/content/drive/MyDrive/AI/WordEmbedChar1.pt')\n",
        "    with torch.no_grad():\n",
        "      out = charModel(list_char)\n",
        "      test = torch.cat((torch.tensor(list_word, dtype = torch.float32), out), dim = 1)\n",
        "      current_loss = model.neg_log_likelihood(test, torch.tensor(list_tag)).item()\n",
        "    print(f\"epoch {epoch+1}/{EPOCHS} with time: {time.time() - start_time} - validloss: {current_loss}\") \n",
        "    start_time = time.time()\n",
        "    if current_loss > last_loss:\n",
        "      trigger += 1\n",
        "    else:\n",
        "      last_loss = current_loss\n",
        "    if trigger == patience:\n",
        "      break"
      ],
      "metadata": {
        "id": "_kXzMgpnW0kp",
        "colab": {
          "base_uri": "https://localhost:8080/"
        },
        "outputId": "0d44d01c-6473-493d-f2c0-2efda86b562e"
      },
      "execution_count": null,
      "outputs": [
        {
          "output_type": "stream",
          "name": "stdout",
          "text": [
            "Validation Loss before training: 134733.265625\n",
            "Epoch: 1/10\n",
            "0 1 2 3 4 5 6 7 8 9 10 11 12 13 14 15 16 17 18 19 20 21 22 23 24 25 26 27 28 29 30 31 32 33 34 35 36 37 38 39 40 41 42 43 44 45 46 47 48 49 50 51 52 53 54 55 56 57 58 59 60 61 62 63 64 65 66 67 68 69 70 71 72 73 74 75 76 77 78 79 80 81 82 83 84 85 86 87 88 89 90 91 92 93 94 95 96 97 98 99 100 101 102 103 104 105 106 107 108 109 110 111 112 113 114 115 116 117 118 119 120 121 122 123 124 125 126 127 128 129 130 131 132 133 134 135 136 137 138 139 140 141 142 143 144 145 146 147 148 149 150 151 152 153 154 155 156 epoch 1/10 with time: 1350.9037110805511 - validloss: 32853.28125\n",
            "Epoch: 2/10\n",
            "0 1 2 3 4 5 6 7 8 9 10 11 12 13 14 15 16 17 18 19 20 21 22 23 24 25 26 27 28 29 30 31 32 33 34 35 36 37 38 39 40 41 42 43 44 45 46 47 48 49 50 51 52 53 54 55 56 57 58 59 60 61 62 63 64 65 66 67 68 69 70 71 72 73 74 75 76 77 78 79 80 81 82 83 84 85 86 87 88 89 90 91 92 93 94 95 96 97 98 99 100 101 102 103 104 105 106 107 108 109 110 111 112 113 114 115 116 117 118 119 120 121 122 123 124 125 126 127 128 129 130 131 132 133 134 135 136 137 138 139 140 141 142 143 144 145 146 147 148 149 150 151 152 153 154 155 156 epoch 2/10 with time: 1359.6248598098755 - validloss: 20381.34375\n",
            "Epoch: 3/10\n",
            "0 1 2 3 4 5 6 7 8 9 10 11 12 13 14 15 16 17 18 19 20 21 22 23 24 25 26 27 28 29 30 31 32 33 34 35 36 37 38 39 40 41 42 43 44 45 46 47 48 49 50 51 52 53 54 55 56 57 58 59 60 61 62 63 64 65 66 67 68 69 70 71 72 73 74 75 76 77 78 79 80 81 82 83 84 85 86 87 88 89 90 91 92 93 94 95 96 97 98 99 100 101 102 103 104 105 106 107 108 109 110 111 112 113 114 115 116 117 118 119 120 121 122 123 124 125 126 127 128 129 130 131 132 133 134 135 136 137 138 139 140 141 142 143 144 145 146 147 148 149 150 151 152 153 154 155 156 epoch 3/10 with time: 1358.564025402069 - validloss: 14993.625\n",
            "Epoch: 4/10\n",
            "0 1 2 3 4 5 6 7 8 9 10 11 12 13 14 15 16 17 18 19 20 21 22 23 24 25 26 27 28 29 30 31 32 33 34 35 36 37 38 39 40 41 42 43 44 45 46 47 48 49 50 51 52 53 54 55 56 57 58 59 60 61 62 63 64 65 66 67 68 69 70 71 72 73 74 75 76 77 78 79 80 81 82 83 84 85 86 87 88 89 90 91 92 93 94 95 96 97 98 99 100 101 102 103 104 105 106 107 108 109 110 111 112 113 114 115 116 117 118 119 120 121 122 123 124 125 126 127 128 129 130 131 132 133 134 135 136 137 138 139 140 141 142 143 144 145 146 147 148 149 150 151 152 153 154 155 156 epoch 4/10 with time: 1362.2385606765747 - validloss: 11302.875\n",
            "Epoch: 5/10\n",
            "0 1 2 3 4 5 6 7 8 9 10 11 12 13 14 15 16 17 18 19 20 21 22 23 24 25 26 27 28 29 30 31 32 33 34 35 36 37 38 39 40 41 42 43 44 45 46 47 48 49 50 51 52 53 54 55 56 57 58 59 60 61 62 63 64 65 66 67 68 69 70 71 72 73 74 75 76 77 78 79 80 81 82 83 84 85 86 87 88 89 90 91 92 93 94 95 96 97 98 99 100 101 102 103 104 105 106 107 108 109 110 111 112 113 114 115 116 117 118 119 120 121 122 123 124 125 126 127 128 129 130 131 132 133 134 135 136 137 138 139 140 141 142 143 144 145 146 147 148 149 150 151 152 153 154 155 156 epoch 5/10 with time: 1354.635594367981 - validloss: 9455.71875\n",
            "Epoch: 6/10\n",
            "0 1 2 3 4 5 6 7 8 9 10 11 12 13 14 15 16 17 18 19 20 21 22 23 24 25 26 27 28 29 30 31 32 33 34 35 36 37 38 39 40 41 42 43 44 45 46 47 48 49 50 51 52 53 54 55 56 57 58 59 60 61 62 63 64 65 66 67 68 69 70 71 72 73 74 75 76 77 78 79 80 81 82 83 84 85 86 87 88 89 90 91 92 93 94 95 96 97 98 99 100 101 102 103 104 105 106 107 108 109 110 111 112 113 114 115 116 117 118 119 120 121 122 123 124 125 126 127 128 129 130 131 132 133 134 135 136 137 138 139 140 141 142 143 144 145 146 147 148 149 150 151 152 153 154 155 156 epoch 6/10 with time: 1360.088918209076 - validloss: 8424.46875\n",
            "Epoch: 7/10\n",
            "0 1 2 3 4 5 6 7 8 9 10 11 12 13 14 15 16 17 18 19 20 21 22 23 24 25 26 27 28 29 30 31 32 33 34 35 36 37 38 39 40 41 42 43 44 45 46 47 48 49 50 51 52 53 54 55 56 57 58 59 60 61 62 63 64 65 66 67 68 69 70 71 72 73 74 75 76 77 78 79 80 81 82 83 84 85 86 87 88 89 90 91 92 93 94 95 96 97 98 99 100 101 102 103 104 105 106 107 108 109 110 111 112 113 114 115 116 117 118 119 120 121 122 123 124 125 126 127 128 129 130 131 132 133 134 135 136 137 138 139 140 141 142 143 144 145 146 147 148 149 150 151 152 153 154 155 156 epoch 7/10 with time: 1356.7415843009949 - validloss: 8045.125\n",
            "Epoch: 8/10\n",
            "0 1 2 3 4 5 6 7 8 9 10 11 12 13 14 15 16 17 18 19 20 21 22 23 24 25 26 27 28 29 30 31 32 33 34 35 36 37 38 39 40 41 42 43 44 45 46 47 48 49 50 51 52 53 54 55 56 57 58 59 60 61 62 63 64 65 66 67 68 69 70 71 72 73 74 75 76 77 78 79 80 81 82 83 84 85 86 87 88 89 90 91 92 93 94 95 96 97 98 99 100 101 102 103 104 105 106 107 108 109 110 111 112 113 114 115 116 117 118 119 120 121 122 123 124 125 126 127 128 129 130 131 132 133 134 135 136 137 138 139 140 141 142 143 144 145 146 147 148 149 150 151 152 153 154 155 156 epoch 8/10 with time: 1359.0755801200867 - validloss: 7614.9375\n",
            "Epoch: 9/10\n",
            "0 1 2 3 4 5 6 7 8 9 10 11 12 13 14 15 16 17 18 19 20 21 22 23 24 25 26 27 28 29 30 31 32 33 34 35 36 37 38 39 40 41 42 43 44 45 46 47 48 49 50 51 52 53 54 55 56 57 58 59 60 61 62 63 64 65 66 67 68 69 70 71 72 73 74 75 76 77 78 79 80 81 82 83 84 85 86 87 88 89 90 91 92 93 94 95 96 97 98 99 100 101 102 103 104 105 106 107 108 109 110 111 112 113 114 115 116 117 118 119 120 121 122 123 124 125 126 127 128 129 130 131 132 133 134 135 136 137 138 139 140 141 142 143 144 145 146 147 148 149 150 151 152 153 154 155 156 epoch 9/10 with time: 1355.308685541153 - validloss: 7292.875\n",
            "Epoch: 10/10\n",
            "0 1 2 3 4 5 6 7 8 9 10 11 12 13 14 15 16 17 18 19 20 21 22 23 24 25 26 27 28 29 30 31 32 33 34 35 36 37 38 39 40 41 42 43 44 45 46 47 48 49 50 51 52 53 54 55 56 57 58 59 60 61 62 63 64 65 66 67 68 69 70 71 72 73 74 75 76 77 78 79 80 81 82 83 84 85 86 87 88 89 90 91 92 93 94 95 96 97 98 99 100 101 102 103 104 105 106 107 108 109 110 111 112 113 114 115 116 117 118 119 120 121 122 123 124 125 126 127 128 129 130 131 132 133 134 135 136 137 138 139 140 141 142 143 144 145 146 147 148 149 150 151 152 153 154 155 156 epoch 10/10 with time: 1362.4697442054749 - validloss: 7018.0\n"
          ]
        }
      ]
    },
    {
      "cell_type": "code",
      "source": [
        "torch.save(model.state_dict(), '/content/drive/MyDrive/AI/WordEmbedChar.pt')\n",
        "torch.save(charModel.state_dict(), '/content/drive/MyDrive/AI/WordEmbedChar1.pt')"
      ],
      "metadata": {
        "id": "tS85BMJRKquX"
      },
      "execution_count": null,
      "outputs": []
    },
    {
      "cell_type": "code",
      "source": [
        "EMBEDDING_DIM = 150\n",
        "HIDDEN_DIM = 200\n",
        "\n",
        "#char\n",
        "embeddingSize = 10\n",
        "hiddenSize = 25\n",
        "charSize = len(char2int)\n",
        "\n",
        "EPOCHS = 30\n",
        "BATCH_SIZE = 32\n",
        "LEARNING_RATE = 1e-3\n",
        "\n",
        "charModel = CharEmbedding(embeddingSize, hiddenSize, charSize)\n",
        "model = BiLSTM_CRF(len(word_to_ix), tag_to_ix, EMBEDDING_DIM, HIDDEN_DIM)\n",
        "\n",
        "optimizer = optim.Adam([\n",
        "                {'params': model.parameters()},\n",
        "                {'params': charModel.parameters(), 'lr': 1e-3}\n",
        "            ], lr=1e-3)\n",
        "\n",
        "model.load_state_dict(torch.load('WordEmbedChar.pt'))\n",
        "print(model.eval())\n",
        "charModel.load_state_dict(torch.load('WordEmbedChar1.pt'))\n",
        "print(charModel.eval())"
      ],
      "metadata": {
        "colab": {
          "base_uri": "https://localhost:8080/"
        },
        "id": "7OdiQqK-4J3I",
        "outputId": "6c0f4976-7acc-4dfe-dd47-8d05b3de0715"
      },
      "execution_count": null,
      "outputs": [
        {
          "output_type": "stream",
          "name": "stdout",
          "text": [
            "BiLSTM_CRF(\n",
            "  (lstm): LSTM(150, 100, bidirectional=True)\n",
            "  (hidden2tag): Linear(in_features=200, out_features=22, bias=True)\n",
            ")\n",
            "CharEmbedding(\n",
            "  (embed): Embedding(170, 10)\n",
            "  (BiLSTM): LSTM(10, 25, batch_first=True, bidirectional=True)\n",
            ")\n"
          ]
        }
      ]
    },
    {
      "cell_type": "code",
      "source": [
        "f = open(\"predict2_temp.txt\", \"w\", encoding=\"utf-8\")\n",
        "\n",
        "for index, (sent, embeds, tags, pos, char) in enumerate(testing_data):\n",
        "  embeds = torch.tensor(embeds, dtype=torch.float32)\n",
        "  char_embed = charModel(char)\n",
        "\n",
        "  inputs = torch.cat((embeds,char_embed), 1)\n",
        "  targets = torch.tensor(tags)\n",
        "\n",
        "  _, pred_targets = model(inputs)\n",
        "  pred_tag = [list(tag_to_ix.keys())[list(tag_to_ix.values()).index(tag)] for tag in pred_targets]\n",
        "  true_tag = [list(tag_to_ix.keys())[list(tag_to_ix.values()).index(tag)] for tag in targets]\n",
        "  for word, tags, pred in zip(testing_data[index][0], true_tag, pred_tag):\n",
        "      f.write(\"{} a {} {}\\n\".format(word, tags, pred))"
      ],
      "metadata": {
        "id": "wrNcjxND4f7v"
      },
      "execution_count": null,
      "outputs": []
    },
    {
      "cell_type": "code",
      "source": [
        "!python conlleval.py < predict2.txt > result2.txt\n",
        "path = '/content/drive/MyDrive/AI/result2.txt'\n",
        "with open(path, 'r') as result:\n",
        "  print(result.read())"
      ],
      "metadata": {
        "colab": {
          "base_uri": "https://localhost:8080/"
        },
        "id": "Jl65oL187D19",
        "outputId": "7d79b689-adf5-4782-c3da-2d82a431ed40"
      },
      "execution_count": null,
      "outputs": [
        {
          "output_type": "stream",
          "name": "stdout",
          "text": [
            "processed 110431 tokens with 14723 phrases; found: 13964 phrases; correct: 11825.\n",
            "accuracy:  78.16%; (non-O)\n",
            "accuracy:  93.66%; precision:  84.68%; recall:  80.32%; FB1:  82.44\n",
            "              AGE: precision:  91.53%; recall:  91.66%; FB1:  91.59  732\n",
            "             DATE: precision:  88.43%; recall:  95.42%; FB1:  91.79  2307\n",
            "           GENDER: precision:  92.13%; recall:  89.10%; FB1:  90.59  559\n",
            "              JOB: precision: 100.00%; recall:   6.31%; FB1:  11.86  14\n",
            "         LOCATION: precision:  83.25%; recall:  78.91%; FB1:  81.02  5145\n",
            "             NAME: precision:  85.82%; recall:  60.85%; FB1:  71.21  268\n",
            "     ORGANIZATION: precision:  66.27%; recall:  61.48%; FB1:  63.79  925\n",
            "       PATIENT_ID: precision:  92.93%; recall:  97.58%; FB1:  95.20  2731\n",
            "SYMPTOM_AND_DISEASE: precision:  69.52%; recall:  54.03%; FB1:  60.80  1109\n",
            "   TRANSPORTATION: precision:  86.78%; recall:  67.71%; FB1:  76.07  174\n",
            "\n"
          ]
        }
      ]
    },
    {
      "cell_type": "markdown",
      "source": [
        "# WordEmbedding + Char + POS"
      ],
      "metadata": {
        "id": "ZWJyiZdrWa9l"
      }
    },
    {
      "cell_type": "code",
      "source": [
        "EMBEDDING_DIM = 168\n",
        "HIDDEN_DIM = 200\n",
        "\n",
        "#char\n",
        "embeddingSize = 10\n",
        "hiddenSize = 25\n",
        "charSize = len(char2int)\n",
        "\n",
        "EPOCHS = 30\n",
        "BATCH_SIZE = 32\n",
        "LEARNING_RATE = 1e-3"
      ],
      "metadata": {
        "id": "AIdCBQLWWgIZ"
      },
      "execution_count": null,
      "outputs": []
    },
    {
      "cell_type": "code",
      "source": [
        "charModel = CharEmbedding(embeddingSize, hiddenSize, charSize)\n",
        "model = BiLSTM_CRF(len(word_to_ix), tag_to_ix, EMBEDDING_DIM, HIDDEN_DIM)\n",
        "\n",
        "optimizer = optim.Adam([\n",
        "                {'params': model.parameters()},\n",
        "                {'params': charModel.parameters(), 'lr': 1e-3}\n",
        "            ], lr=1e-3)"
      ],
      "metadata": {
        "id": "efdvjXlH2n0I"
      },
      "execution_count": null,
      "outputs": []
    },
    {
      "cell_type": "code",
      "source": [
        "import time\n",
        "\n",
        "patience = 2\n",
        "trigger = 0\n",
        "\n",
        "list_word = []\n",
        "list_tag = []\n",
        "list_char = []\n",
        "list_pos = []\n",
        "for i in range(len(validating_data)):\n",
        "    list_char.extend(validating_data[i][-1])\n",
        "    list_word.extend(validating_data[i][1])\n",
        "    list_tag.extend(validating_data[i][2])\n",
        "    list_pos.extend(validating_data[i][3])\n",
        "\n",
        "with torch.no_grad():\n",
        "  out = charModel(list_char)\n",
        "  test = torch.cat((torch.tensor(list_word, dtype = torch.float32), out, torch.tensor(list_pos, dtype = torch.float32)), dim = 1)\n",
        "  last_loss = model.neg_log_likelihood(test, torch.tensor(list_tag)).item()\n",
        "  print(f\"Validation Loss before training: {last_loss}\")\n",
        "for epoch in range(EPOCHS):\n",
        "    print(f\"Epoch: {epoch+1}/{EPOCHS}\")\n",
        "    start_time = time.time()\n",
        "\n",
        "    for index, (sent, embeds, tags, pos, char) in enumerate(generate_batch(training_data, BATCH_SIZE)):\n",
        "        model.zero_grad()\n",
        "        charModel.zero_grad()\n",
        "\n",
        "        embeds = torch.tensor(embeds, dtype = torch.float32)\n",
        "        pos = torch.tensor(pos, dtype = torch.float32)\n",
        "        char = charModel(char)\n",
        "        inputs = torch.cat((embeds, char, pos), dim=1)\n",
        "\n",
        "        targets = torch.tensor(tags)\n",
        "\n",
        "        train_loss = model.neg_log_likelihood(inputs, targets)\n",
        "        train_loss.backward()\n",
        "        optimizer.step()\n",
        "      \n",
        "        print(index, end = \" \")  \n",
        "        if index % 10 == 0:\n",
        "          torch.save(model.state_dict(), '/content/drive/MyDrive/AI/WordEmbedCharPOS.pt')\n",
        "          torch.save(charModel.state_dict(), '/content/drive/MyDrive/AI/WordEmbedCharPOS1.pt')\n",
        "          \n",
        "    with torch.no_grad():\n",
        "      out = charModel(list_char)\n",
        "      test = torch.cat((torch.tensor(list_word, dtype = torch.float32), out, torch.tensor(list_pos, dtype = torch.float32)), dim = 1)\n",
        "      current_loss = model.neg_log_likelihood(test, torch.tensor(list_tag)).item()\n",
        "    print(f\"epoch {epoch+1}/{EPOCHS} with time: {time.time() - start_time} - validloss: {current_loss}\") \n",
        "    start_time = time.time()\n",
        "    if current_loss > last_loss:\n",
        "      trigger += 1\n",
        "    else:\n",
        "      last_loss = current_loss\n",
        "      name = '/content/drive/MyDrive/AI/model/WordEmbedCharPOS_epoch'+str(epoch+1)+'.pt'\n",
        "      nameChar = '/content/drive/MyDrive/AI/model/WordEmbedCharPOS1_epoch'+str(epoch+1)+'.pt'\n",
        "      torch.save(model.state_dict(), name)\n",
        "      torch.save(charModel.state_dict(), nameChar)\n",
        "    if trigger == patience:\n",
        "      break"
      ],
      "metadata": {
        "id": "KXWAfUz12ycV",
        "colab": {
          "base_uri": "https://localhost:8080/",
          "height": 591
        },
        "outputId": "12ef7007-9356-475f-d74c-5b7a73310083"
      },
      "execution_count": null,
      "outputs": [
        {
          "output_type": "stream",
          "name": "stdout",
          "text": [
            "Validation Loss before training: 93794.90625\n",
            "Epoch: 1/30\n",
            "0 1 2 3 4 5 6 7 8 9 10 11 12 13 14 15 16 17 18 19 20 21 22 23 24 25 26 27 28 29 30 31 32 33 34 35 36 37 38 39 40 41 42 43 44 45 46 47 48 49 50 51 52 53 54 55 56 57 58 59 60 61 62 63 64 65 66 67 68 69 70 71 72 73 74 75 76 77 78 79 80 81 82 83 84 85 86 87 88 89 90 91 92 93 94 95 96 97 98 99 100 101 102 103 104 105 106 107 108 109 110 111 112 113 114 115 116 117 118 119 120 121 122 123 124 125 126 127 128 129 130 131 132 133 134 135 136 137 138 139 140 141 142 143 144 145 146 147 148 149 150 151 152 153 154 155 156 epoch 1/30 with time: 1352.900033712387 - validloss: 25009.0390625\n",
            "Epoch: 2/30\n",
            "0 1 2 3 4 5 6 7 8 9 10 11 12 13 14 15 16 17 18 19 20 21 22 23 24 25 26 27 28 29 30 31 32 33 34 35 36 37 38 39 40 41 42 43 44 45 46 47 48 49 50 51 52 53 54 55 56 57 58 59 60 61 62 63 64 65 66 67 68 69 70 71 72 73 74 75 76 77 78 79 80 81 82 83 84 85 86 87 88 89 90 91 92 93 94 95 96 97 98 99 100 101 102 103 104 105 106 107 108 109 110 111 112 113 114 115 116 117 118 119 120 121 122 123 124 125 126 127 128 129 130 131 132 133 134 135 136 137 138 139 140 141 142 143 144 145 146 147 148 149 150 151 152 153 154 155 156 epoch 2/30 with time: 1350.6949243545532 - validloss: 12633.375\n",
            "Epoch: 3/30\n",
            "0 1 2 3 4 5 6 7 8 9 10 11 12 13 14 15 16 17 18 19 20 21 22 23 24 25 26 27 28 29 30 31 32 33 34 35 36 37 38 39 40 41 42 43 44 45 46 47 48 49 50 51 52 53 54 55 56 57 58 59 60 61 62 63 64 65 66 67 68 69 70 71 72 73 74 75 76 77 78 79 80 81 82 83 84 85 86 87 88 89 90 91 92 93 94 95 96 97 98 99 100 101 102 103 104 105 106 107 108 109 110 111 112 113 114 115 116 117 118 119 120 121 122 123 124 125 126 127 128 129 130 131 132 133 134 135 136 137 138 139 140 141 142 143 144 145 146 147 148 149 150 151 152 153 154 155 156 epoch 3/30 with time: 1348.466332435608 - validloss: 8890.921875\n",
            "Epoch: 4/30\n",
            "0 1 2 3 4 5 6 7 8 9 10 11 12 13 14 15 16 17 18 19 20 21 22 23 24 25 26 27 28 29 30 31 32 33 34 35 36 37 38 39 40 41 42 43 44 45 46 47 48 49 50 51 52 53 54 55 56 57 58 59 60 61 62 63 64 65 66 67 68 69 70 71 72 73 74 75 76 77 78 79 80 81 82 83 84 85 86 87 88 89 90 91 92 93 94 95 96 97 98 99 100 101 102 103 104 105 106 107 108 109 110 111 112 113 114 115 116 117 118 119 120 121 122 123 124 125 126 127 128 129 130 131 132 133 134 135 136 137 138 139 140 141 142 143 144 145 146 147 148 149 150 151 152 153 154 155 156 epoch 4/30 with time: 1362.2760846614838 - validloss: 7680.78125\n",
            "Epoch: 5/30\n",
            "0 1 2 3 4 5 6 7 8 9 10 11 12 13 14 15 16 17 18 "
          ]
        },
        {
          "output_type": "error",
          "ename": "KeyboardInterrupt",
          "evalue": "ignored",
          "traceback": [
            "\u001b[0;31m---------------------------------------------------------------------------\u001b[0m",
            "\u001b[0;31mKeyboardInterrupt\u001b[0m                         Traceback (most recent call last)",
            "\u001b[0;32m<ipython-input-42-71d54d37e9c6>\u001b[0m in \u001b[0;36m<module>\u001b[0;34m\u001b[0m\n\u001b[1;32m     29\u001b[0m         \u001b[0membeds\u001b[0m \u001b[0;34m=\u001b[0m \u001b[0mtorch\u001b[0m\u001b[0;34m.\u001b[0m\u001b[0mtensor\u001b[0m\u001b[0;34m(\u001b[0m\u001b[0membeds\u001b[0m\u001b[0;34m,\u001b[0m \u001b[0mdtype\u001b[0m \u001b[0;34m=\u001b[0m \u001b[0mtorch\u001b[0m\u001b[0;34m.\u001b[0m\u001b[0mfloat32\u001b[0m\u001b[0;34m)\u001b[0m\u001b[0;34m\u001b[0m\u001b[0;34m\u001b[0m\u001b[0m\n\u001b[1;32m     30\u001b[0m         \u001b[0mpos\u001b[0m \u001b[0;34m=\u001b[0m \u001b[0mtorch\u001b[0m\u001b[0;34m.\u001b[0m\u001b[0mtensor\u001b[0m\u001b[0;34m(\u001b[0m\u001b[0mpos\u001b[0m\u001b[0;34m,\u001b[0m \u001b[0mdtype\u001b[0m \u001b[0;34m=\u001b[0m \u001b[0mtorch\u001b[0m\u001b[0;34m.\u001b[0m\u001b[0mfloat32\u001b[0m\u001b[0;34m)\u001b[0m\u001b[0;34m\u001b[0m\u001b[0;34m\u001b[0m\u001b[0m\n\u001b[0;32m---> 31\u001b[0;31m         \u001b[0mchar\u001b[0m \u001b[0;34m=\u001b[0m \u001b[0mcharModel\u001b[0m\u001b[0;34m(\u001b[0m\u001b[0mchar\u001b[0m\u001b[0;34m)\u001b[0m\u001b[0;34m\u001b[0m\u001b[0;34m\u001b[0m\u001b[0m\n\u001b[0m\u001b[1;32m     32\u001b[0m         \u001b[0minputs\u001b[0m \u001b[0;34m=\u001b[0m \u001b[0mtorch\u001b[0m\u001b[0;34m.\u001b[0m\u001b[0mcat\u001b[0m\u001b[0;34m(\u001b[0m\u001b[0;34m(\u001b[0m\u001b[0membeds\u001b[0m\u001b[0;34m,\u001b[0m \u001b[0mchar\u001b[0m\u001b[0;34m,\u001b[0m \u001b[0mpos\u001b[0m\u001b[0;34m)\u001b[0m\u001b[0;34m,\u001b[0m \u001b[0mdim\u001b[0m\u001b[0;34m=\u001b[0m\u001b[0;36m1\u001b[0m\u001b[0;34m)\u001b[0m\u001b[0;34m\u001b[0m\u001b[0;34m\u001b[0m\u001b[0m\n\u001b[1;32m     33\u001b[0m \u001b[0;34m\u001b[0m\u001b[0m\n",
            "\u001b[0;32m/usr/local/lib/python3.7/dist-packages/torch/nn/modules/module.py\u001b[0m in \u001b[0;36m_call_impl\u001b[0;34m(self, *input, **kwargs)\u001b[0m\n\u001b[1;32m   1128\u001b[0m         if not (self._backward_hooks or self._forward_hooks or self._forward_pre_hooks or _global_backward_hooks\n\u001b[1;32m   1129\u001b[0m                 or _global_forward_hooks or _global_forward_pre_hooks):\n\u001b[0;32m-> 1130\u001b[0;31m             \u001b[0;32mreturn\u001b[0m \u001b[0mforward_call\u001b[0m\u001b[0;34m(\u001b[0m\u001b[0;34m*\u001b[0m\u001b[0minput\u001b[0m\u001b[0;34m,\u001b[0m \u001b[0;34m**\u001b[0m\u001b[0mkwargs\u001b[0m\u001b[0;34m)\u001b[0m\u001b[0;34m\u001b[0m\u001b[0;34m\u001b[0m\u001b[0m\n\u001b[0m\u001b[1;32m   1131\u001b[0m         \u001b[0;31m# Do not call functions when jit is used\u001b[0m\u001b[0;34m\u001b[0m\u001b[0;34m\u001b[0m\u001b[0;34m\u001b[0m\u001b[0m\n\u001b[1;32m   1132\u001b[0m         \u001b[0mfull_backward_hooks\u001b[0m\u001b[0;34m,\u001b[0m \u001b[0mnon_full_backward_hooks\u001b[0m \u001b[0;34m=\u001b[0m \u001b[0;34m[\u001b[0m\u001b[0;34m]\u001b[0m\u001b[0;34m,\u001b[0m \u001b[0;34m[\u001b[0m\u001b[0;34m]\u001b[0m\u001b[0;34m\u001b[0m\u001b[0;34m\u001b[0m\u001b[0m\n",
            "\u001b[0;32m<ipython-input-25-e14a0d453226>\u001b[0m in \u001b[0;36mforward\u001b[0;34m(self, sentence)\u001b[0m\n\u001b[1;32m     43\u001b[0m       \u001b[0;32mfor\u001b[0m \u001b[0mchar\u001b[0m \u001b[0;32min\u001b[0m \u001b[0mword\u001b[0m\u001b[0;34m:\u001b[0m\u001b[0;34m\u001b[0m\u001b[0;34m\u001b[0m\u001b[0m\n\u001b[1;32m     44\u001b[0m         \u001b[0membeds\u001b[0m \u001b[0;34m=\u001b[0m \u001b[0mself\u001b[0m\u001b[0;34m.\u001b[0m\u001b[0membed\u001b[0m\u001b[0;34m(\u001b[0m\u001b[0mtorch\u001b[0m\u001b[0;34m.\u001b[0m\u001b[0mtensor\u001b[0m\u001b[0;34m(\u001b[0m\u001b[0mchar\u001b[0m\u001b[0;34m)\u001b[0m\u001b[0;34m)\u001b[0m\u001b[0;34m\u001b[0m\u001b[0;34m\u001b[0m\u001b[0m\n\u001b[0;32m---> 45\u001b[0;31m         \u001b[0mout\u001b[0m\u001b[0;34m,\u001b[0m \u001b[0;34m(\u001b[0m\u001b[0mhidden\u001b[0m\u001b[0;34m,\u001b[0m \u001b[0mcell\u001b[0m\u001b[0;34m)\u001b[0m \u001b[0;34m=\u001b[0m \u001b[0mself\u001b[0m\u001b[0;34m.\u001b[0m\u001b[0mBiLSTM\u001b[0m\u001b[0;34m(\u001b[0m\u001b[0membeds\u001b[0m\u001b[0;34m.\u001b[0m\u001b[0mview\u001b[0m\u001b[0;34m(\u001b[0m\u001b[0;36m1\u001b[0m\u001b[0;34m,\u001b[0m \u001b[0;36m1\u001b[0m\u001b[0;34m,\u001b[0m \u001b[0;34m-\u001b[0m\u001b[0;36m1\u001b[0m\u001b[0;34m)\u001b[0m\u001b[0;34m,\u001b[0m \u001b[0;34m(\u001b[0m\u001b[0mhidden\u001b[0m\u001b[0;34m,\u001b[0m \u001b[0mcell\u001b[0m\u001b[0;34m)\u001b[0m\u001b[0;34m)\u001b[0m\u001b[0;34m\u001b[0m\u001b[0;34m\u001b[0m\u001b[0m\n\u001b[0m\u001b[1;32m     46\u001b[0m       \u001b[0membeddingMatrix\u001b[0m\u001b[0;34m[\u001b[0m\u001b[0mi\u001b[0m\u001b[0;34m]\u001b[0m \u001b[0;34m=\u001b[0m \u001b[0mout\u001b[0m\u001b[0;34m\u001b[0m\u001b[0;34m\u001b[0m\u001b[0m\n\u001b[1;32m     47\u001b[0m     \u001b[0;32mreturn\u001b[0m \u001b[0membeddingMatrix\u001b[0m\u001b[0;34m\u001b[0m\u001b[0;34m\u001b[0m\u001b[0m\n",
            "\u001b[0;32m/usr/local/lib/python3.7/dist-packages/torch/nn/modules/module.py\u001b[0m in \u001b[0;36m_call_impl\u001b[0;34m(self, *input, **kwargs)\u001b[0m\n\u001b[1;32m   1128\u001b[0m         if not (self._backward_hooks or self._forward_hooks or self._forward_pre_hooks or _global_backward_hooks\n\u001b[1;32m   1129\u001b[0m                 or _global_forward_hooks or _global_forward_pre_hooks):\n\u001b[0;32m-> 1130\u001b[0;31m             \u001b[0;32mreturn\u001b[0m \u001b[0mforward_call\u001b[0m\u001b[0;34m(\u001b[0m\u001b[0;34m*\u001b[0m\u001b[0minput\u001b[0m\u001b[0;34m,\u001b[0m \u001b[0;34m**\u001b[0m\u001b[0mkwargs\u001b[0m\u001b[0;34m)\u001b[0m\u001b[0;34m\u001b[0m\u001b[0;34m\u001b[0m\u001b[0m\n\u001b[0m\u001b[1;32m   1131\u001b[0m         \u001b[0;31m# Do not call functions when jit is used\u001b[0m\u001b[0;34m\u001b[0m\u001b[0;34m\u001b[0m\u001b[0;34m\u001b[0m\u001b[0m\n\u001b[1;32m   1132\u001b[0m         \u001b[0mfull_backward_hooks\u001b[0m\u001b[0;34m,\u001b[0m \u001b[0mnon_full_backward_hooks\u001b[0m \u001b[0;34m=\u001b[0m \u001b[0;34m[\u001b[0m\u001b[0;34m]\u001b[0m\u001b[0;34m,\u001b[0m \u001b[0;34m[\u001b[0m\u001b[0;34m]\u001b[0m\u001b[0;34m\u001b[0m\u001b[0;34m\u001b[0m\u001b[0m\n",
            "\u001b[0;32m/usr/local/lib/python3.7/dist-packages/torch/nn/modules/rnn.py\u001b[0m in \u001b[0;36mforward\u001b[0;34m(self, input, hx)\u001b[0m\n\u001b[1;32m    768\u001b[0m         \u001b[0;32mif\u001b[0m \u001b[0mbatch_sizes\u001b[0m \u001b[0;32mis\u001b[0m \u001b[0;32mNone\u001b[0m\u001b[0;34m:\u001b[0m\u001b[0;34m\u001b[0m\u001b[0;34m\u001b[0m\u001b[0m\n\u001b[1;32m    769\u001b[0m             result = _VF.lstm(input, hx, self._flat_weights, self.bias, self.num_layers,\n\u001b[0;32m--> 770\u001b[0;31m                               self.dropout, self.training, self.bidirectional, self.batch_first)\n\u001b[0m\u001b[1;32m    771\u001b[0m         \u001b[0;32melse\u001b[0m\u001b[0;34m:\u001b[0m\u001b[0;34m\u001b[0m\u001b[0;34m\u001b[0m\u001b[0m\n\u001b[1;32m    772\u001b[0m             result = _VF.lstm(input, batch_sizes, hx, self._flat_weights, self.bias,\n",
            "\u001b[0;31mKeyboardInterrupt\u001b[0m: "
          ]
        }
      ]
    },
    {
      "cell_type": "code",
      "source": [
        "EMBEDDING_DIM = 168\n",
        "HIDDEN_DIM = 200\n",
        "\n",
        "#char\n",
        "embeddingSize = 10\n",
        "hiddenSize = 25\n",
        "charSize = len(char2int)\n",
        "\n",
        "EPOCHS = 30\n",
        "BATCH_SIZE = 32\n",
        "LEARNING_RATE = 1e-3\n",
        "\n",
        "charModel = CharEmbedding(embeddingSize, hiddenSize, charSize)\n",
        "model = BiLSTM_CRF(len(word_to_ix), tag_to_ix, EMBEDDING_DIM, HIDDEN_DIM)\n",
        "\n",
        "optimizer = optim.Adam([\n",
        "                {'params': model.parameters()},\n",
        "                {'params': charModel.parameters(), 'lr': 1e-3}\n",
        "            ], lr=1e-3)\n",
        "\n",
        "model.load_state_dict(torch.load('Copy of WordEmbedCharPOS_epoch4.pt'))\n",
        "print(model.eval())\n",
        "charModel.load_state_dict(torch.load('Copy of WordEmbedCharPOS1_epoch4.pt'))\n",
        "print(charModel.eval())"
      ],
      "metadata": {
        "colab": {
          "base_uri": "https://localhost:8080/"
        },
        "id": "2WXF36X65XVd",
        "outputId": "5024fea3-e511-43e2-d7ab-461edef5231d"
      },
      "execution_count": null,
      "outputs": [
        {
          "output_type": "stream",
          "name": "stdout",
          "text": [
            "BiLSTM_CRF(\n",
            "  (lstm): LSTM(168, 100, bidirectional=True)\n",
            "  (hidden2tag): Linear(in_features=200, out_features=22, bias=True)\n",
            ")\n",
            "CharEmbedding(\n",
            "  (embed): Embedding(170, 10)\n",
            "  (BiLSTM): LSTM(10, 25, batch_first=True, bidirectional=True)\n",
            ")\n"
          ]
        }
      ]
    },
    {
      "cell_type": "code",
      "source": [
        "patience = 2\n",
        "trigger = 0\n",
        "\n",
        "with torch.no_grad():\n",
        "  out = charModel(list_char)\n",
        "  test = torch.cat((torch.tensor(list_word, dtype = torch.float32), out, torch.tensor(list_pos, dtype = torch.float32)), dim = 1)\n",
        "  last_loss = model.neg_log_likelihood(test, torch.tensor(list_tag)).item()\n",
        "  print(f\"Validation Loss before training: {last_loss}\")\n",
        "for epoch in range(EPOCHS):\n",
        "    print(f\"Epoch: {epoch+5}/{EPOCHS}\")\n",
        "    start_time = time.time()\n",
        "\n",
        "    for index, (sent, embeds, tags, pos, char) in enumerate(generate_batch(training_data, BATCH_SIZE)):\n",
        "        model.zero_grad()\n",
        "        charModel.zero_grad()\n",
        "\n",
        "        embeds = torch.tensor(embeds, dtype = torch.float32)\n",
        "        pos = torch.tensor(pos, dtype = torch.float32)\n",
        "        char = charModel(char)\n",
        "        inputs = torch.cat((embeds, char, pos), dim=1)\n",
        "\n",
        "        targets = torch.tensor(tags)\n",
        "\n",
        "        train_loss = model.neg_log_likelihood(inputs, targets)\n",
        "        train_loss.backward()\n",
        "        optimizer.step()\n",
        "      \n",
        "        print(index, end = \" \")  \n",
        "        if index % 10 == 0:\n",
        "          torch.save(model.state_dict(), '/content/drive/MyDrive/AI/WordEmbedCharPOS.pt')\n",
        "          torch.save(charModel.state_dict(), '/content/drive/MyDrive/AI/WordEmbedCharPOS1.pt')\n",
        "          \n",
        "    with torch.no_grad():\n",
        "      out = charModel(list_char)\n",
        "      test = torch.cat((torch.tensor(list_word, dtype = torch.float32), out, torch.tensor(list_pos, dtype = torch.float32)), dim = 1)\n",
        "      current_loss = model.neg_log_likelihood(test, torch.tensor(list_tag)).item()\n",
        "    print(f\"epoch {epoch+5}/{EPOCHS} with time: {time.time() - start_time} - validloss: {current_loss}\") \n",
        "    start_time = time.time()\n",
        "    if current_loss > last_loss:\n",
        "      trigger += 1\n",
        "    else:\n",
        "      last_loss = current_loss\n",
        "      name = '/content/drive/MyDrive/AI/model/WordEmbedCharPOS_epoch'+str(epoch+5)+'.pt'\n",
        "      nameChar = '/content/drive/MyDrive/AI/model/WordEmbedCharPOS1_epoch'+str(epoch+5)+'.pt'\n",
        "      torch.save(model.state_dict(), name)\n",
        "      torch.save(charModel.state_dict(), nameChar)\n",
        "    if trigger == patience:\n",
        "      break"
      ],
      "metadata": {
        "colab": {
          "base_uri": "https://localhost:8080/"
        },
        "id": "FUbvIeFA6ah9",
        "outputId": "bfd3d091-f744-47e1-a549-19ba69d77a1a"
      },
      "execution_count": null,
      "outputs": [
        {
          "output_type": "stream",
          "name": "stdout",
          "text": [
            "Validation Loss before training: 7680.359375\n",
            "Epoch: 5/30\n",
            "0 1 2 3 4 5 6 7 8 9 10 11 12 13 14 15 16 17 18 19 20 21 22 23 24 25 26 27 28 29 30 31 32 33 34 35 36 37 38 39 40 41 42 43 44 45 46 47 48 49 50 51 52 53 54 55 56 57 58 59 60 61 62 63 64 65 66 67 68 69 70 71 72 73 74 75 76 77 78 79 80 81 82 83 84 85 86 87 88 89 90 91 92 93 94 95 96 97 98 99 100 101 102 103 104 105 106 107 108 109 110 111 112 113 114 115 116 117 118 119 120 121 122 123 124 125 126 127 128 129 130 131 132 133 134 135 136 137 138 139 140 141 142 143 144 145 146 147 148 149 150 151 152 153 154 155 156 epoch 5/30 with time: 1383.5425879955292 - validloss: 6935.375\n",
            "Epoch: 6/30\n",
            "0 1 2 3 4 5 6 7 8 9 10 11 12 13 14 15 16 17 18 19 20 21 22 23 24 25 26 27 28 29 30 31 32 33 34 35 36 37 38 39 40 41 42 43 44 45 46 47 48 49 50 51 52 53 54 55 56 57 58 59 60 61 62 63 64 65 66 67 68 69 70 71 72 73 74 75 76 77 78 79 80 81 82 83 84 85 86 87 88 89 90 91 92 93 94 95 96 97 98 99 100 101 102 103 104 105 106 107 108 109 110 111 112 113 114 115 116 117 118 119 120 121 122 123 124 125 126 127 128 129 130 131 132 133 134 135 136 137 138 139 140 141 142 143 144 145 146 147 148 149 150 151 152 153 154 155 156 epoch 6/30 with time: 1393.4116961956024 - validloss: 6506.671875\n",
            "Epoch: 7/30\n",
            "0 1 2 3 4 5 6 7 8 9 10 11 12 13 14 15 16 17 18 19 20 21 22 23 24 25 26 27 28 29 30 31 32 33 34 35 36 37 38 39 40 41 42 43 44 45 46 47 48 49 50 51 52 53 54 55 56 57 58 59 60 61 62 63 64 65 66 67 68 69 70 71 72 73 74 75 76 77 78 79 80 81 82 83 84 85 86 87 88 89 90 91 92 93 94 95 96 97 98 99 100 101 102 103 104 105 106 107 108 109 110 111 112 113 114 115 116 117 118 119 120 121 122 123 124 125 126 127 128 129 130 131 132 133 134 135 136 137 138 139 140 141 142 143 144 145 146 147 148 149 150 151 152 153 154 155 156 epoch 7/30 with time: 1387.0458419322968 - validloss: 6328.6875\n",
            "Epoch: 8/30\n",
            "0 1 2 3 4 5 6 7 8 9 10 11 12 13 14 15 16 17 18 19 20 21 22 23 24 25 26 27 28 29 30 31 32 33 34 35 36 37 38 39 40 41 42 43 44 45 46 47 48 49 50 51 52 53 54 55 56 57 58 59 60 61 62 63 64 65 66 67 68 69 70 71 72 73 74 75 76 77 78 79 80 81 82 83 84 85 86 87 88 89 90 91 92 93 94 95 96 97 98 99 100 101 102 103 104 105 106 107 108 109 110 111 112 113 114 115 116 117 118 119 120 121 122 123 124 125 126 127 128 129 130 131 132 133 134 135 136 137 138 139 140 141 142 143 144 145 146 147 148 149 150 151 152 153 154 155 156 epoch 8/30 with time: 1396.1584572792053 - validloss: 6141.984375\n",
            "Epoch: 9/30\n",
            "0 1 2 3 4 5 6 7 8 9 10 11 12 13 14 15 16 17 18 19 20 21 22 23 24 25 26 27 28 29 30 31 32 33 34 35 36 37 38 39 40 41 42 43 44 45 46 47 48 49 50 51 52 53 54 55 56 57 58 59 60 61 62 63 64 65 66 67 68 69 70 71 72 73 74 75 76 77 78 79 80 81 82 83 84 85 86 87 88 89 90 91 92 93 94 95 96 97 98 99 100 101 102 103 104 105 106 107 108 109 110 111 112 113 114 115 116 117 118 119 120 121 122 123 124 125 126 127 128 129 130 131 132 133 134 135 136 137 138 139 140 141 142 143 144 145 146 147 148 149 150 151 152 153 154 155 156 epoch 9/30 with time: 1383.1108028888702 - validloss: 5981.921875\n",
            "Epoch: 10/30\n",
            "0 1 2 3 4 5 6 7 8 9 10 11 12 13 14 15 16 17 18 19 20 21 22 23 24 25 26 27 28 29 30 31 32 33 34 35 36 37 38 39 40 41 42 43 44 45 46 47 48 49 50 51 52 53 54 55 56 57 58 59 60 61 62 63 64 65 66 67 68 69 70 71 72 73 74 75 76 77 78 79 80 81 82 83 84 85 86 87 88 89 90 91 92 93 94 95 96 97 98 99 100 101 102 103 104 105 106 107 108 109 110 111 112 113 114 115 116 117 118 119 120 121 122 123 124 125 126 127 128 129 130 131 132 133 134 135 136 137 138 139 140 141 142 143 144 145 146 147 148 149 150 151 152 153 154 155 156 epoch 10/30 with time: 1380.5813789367676 - validloss: 5779.125\n",
            "Epoch: 11/30\n",
            "0 1 2 3 4 5 6 7 8 9 10 11 12 13 14 15 16 17 18 19 20 21 22 23 24 25 26 27 28 29 30 31 32 33 34 35 36 37 38 39 40 41 42 43 44 45 46 47 48 49 50 51 52 53 54 55 56 57 58 59 60 61 62 63 64 65 66 67 68 69 70 71 72 73 74 75 76 77 78 79 80 81 82 83 84 85 86 87 88 89 90 91 92 93 94 95 96 97 98 99 100 101 102 103 104 105 106 107 108 109 110 111 112 113 114 115 116 117 118 119 120 121 122 123 124 125 126 127 128 129 130 131 132 133 134 135 136 137 138 139 140 141 142 143 144 145 146 147 148 149 150 151 152 153 154 155 156 epoch 11/30 with time: 1376.387261390686 - validloss: 5461.484375\n",
            "Epoch: 12/30\n",
            "0 1 2 3 4 5 6 7 8 9 10 11 12 13 14 15 16 17 18 19 20 21 22 23 24 25 26 27 28 29 30 31 32 33 34 35 36 37 38 39 40 41 42 43 44 45 46 47 48 49 50 51 52 53 54 55 56 57 58 59 60 61 62 63 64 65 66 67 68 69 70 71 72 73 74 75 76 77 78 79 80 81 82 83 84 85 86 87 88 89 90 91 92 93 94 95 96 97 98 99 100 101 102 103 104 105 106 107 108 109 110 111 112 113 114 115 116 117 118 119 120 121 122 123 124 125 126 127 128 129 130 131 132 133 134 135 136 137 138 139 140 141 142 143 144 145 146 147 148 149 150 151 152 153 154 155 156 epoch 12/30 with time: 1378.5519616603851 - validloss: 5153.65625\n",
            "Epoch: 13/30\n",
            "0 1 2 3 4 5 6 7 8 9 10 11 12 13 14 15 16 17 18 19 20 21 22 23 24 25 26 27 28 29 30 31 32 33 34 35 36 37 38 39 40 41 42 43 44 45 46 47 48 49 50 51 52 53 54 55 56 57 58 59 60 61 62 63 64 65 66 67 68 69 70 71 72 73 74 75 76 77 78 79 80 81 82 83 84 85 86 87 88 89 90 91 92 93 94 95 96 97 98 99 100 101 102 103 104 105 106 107 108 109 110 111 112 113 114 115 116 117 118 119 120 121 122 123 124 125 126 127 128 129 130 131 132 133 134 135 136 137 138 139 140 141 142 143 144 145 146 147 148 149 150 151 152 153 154 155 156 epoch 13/30 with time: 1388.6306562423706 - validloss: 5064.625\n",
            "Epoch: 14/30\n",
            "0 1 2 3 4 5 6 7 8 9 10 11 12 13 14 15 16 17 18 19 20 21 22 23 24 25 26 27 28 29 30 31 32 33 34 35 36 37 38 39 40 41 42 43 44 45 46 47 48 49 50 51 52 53 54 55 56 57 58 59 60 61 62 63 64 65 66 67 68 69 70 71 72 73 74 75 76 77 78 79 80 81 82 83 84 85 86 87 88 89 90 91 92 93 94 95 96 97 98 99 100 101 102 103 104 105 106 107 108 109 110 111 112 113 114 115 116 117 118 119 120 121 122 123 124 125 126 127 128 129 130 131 132 133 134 135 136 137 138 139 140 141 142 143 144 145 146 147 148 149 150 151 152 153 154 155 156 epoch 14/30 with time: 1381.844890832901 - validloss: 4947.3125\n",
            "Epoch: 15/30\n",
            "0 1 2 3 4 5 6 7 8 9 10 11 12 13 14 15 16 17 18 19 20 21 22 23 24 25 26 27 28 29 30 31 32 33 34 35 36 37 38 39 40 41 42 43 44 45 46 47 48 49 50 51 52 53 54 55 56 57 58 59 60 61 62 63 64 65 66 67 68 69 70 71 72 73 74 75 76 77 78 79 80 81 82 83 84 85 86 87 88 89 90 91 92 93 94 95 96 97 98 99 100 101 102 103 104 105 106 107 108 109 110 111 112 113 114 115 116 117 118 119 120 121 122 123 124 125 126 127 128 129 130 131 132 133 134 135 136 137 138 139 140 141 142 143 144 145 146 147 148 149 150 151 152 153 154 155 156 epoch 15/30 with time: 1367.7164540290833 - validloss: 4658.96875\n",
            "Epoch: 16/30\n",
            "0 1 2 3 4 5 6 7 8 9 10 11 12 13 14 15 16 17 18 19 20 21 22 23 24 25 26 27 28 29 30 31 32 33 34 35 36 37 38 39 40 41 42 43 44 45 46 47 48 49 50 51 52 53 54 55 56 57 58 59 60 61 62 63 64 65 66 67 68 69 70 71 72 73 74 75 76 77 78 79 80 81 82 83 84 85 86 87 88 89 90 91 92 93 94 95 96 97 98 99 100 101 102 103 104 105 106 107 108 109 110 111 112 113 114 115 116 117 118 119 120 121 122 123 124 125 126 127 128 129 130 131 132 133 134 135 136 137 138 139 140 141 142 143 144 145 146 147 148 149 150 151 152 153 154 155 156 epoch 16/30 with time: 1359.6708161830902 - validloss: 5129.796875\n",
            "Epoch: 17/30\n",
            "0 1 2 3 4 5 6 7 8 9 10 11 12 13 14 15 16 17 18 19 20 21 22 23 24 25 26 27 28 29 30 31 32 33 34 35 36 37 38 39 40 41 42 43 44 45 46 47 48 49 50 51 52 53 54 55 56 57 58 59 60 61 62 63 64 65 66 67 68 69 70 71 72 73 74 75 76 77 78 79 80 81 82 83 84 85 86 87 88 89 90 91 92 93 94 95 96 97 98 99 100 101 102 103 104 105 106 107 108 109 110 111 112 113 114 115 116 117 118 119 120 121 122 123 124 125 126 127 128 129 130 131 132 133 134 135 136 137 138 139 140 141 142 143 144 145 146 147 148 149 150 151 152 153 154 155 156 epoch 17/30 with time: 1364.178743839264 - validloss: 6201.78125\n"
          ]
        }
      ]
    },
    {
      "cell_type": "code",
      "source": [
        "#Predict after 17 epochs\n",
        "#--> Get model after 15 epoch\n",
        "EMBEDDING_DIM = 168\n",
        "HIDDEN_DIM = 200\n",
        "\n",
        "#char\n",
        "embeddingSize = 10\n",
        "hiddenSize = 25\n",
        "charSize = len(char2int)\n",
        "\n",
        "EPOCHS = 30\n",
        "BATCH_SIZE = 32\n",
        "LEARNING_RATE = 1e-3\n",
        "\n",
        "charModel = CharEmbedding(embeddingSize, hiddenSize, charSize)\n",
        "model = BiLSTM_CRF(len(word_to_ix), tag_to_ix, EMBEDDING_DIM, HIDDEN_DIM)\n",
        "\n",
        "optimizer = optim.Adam([\n",
        "                {'params': model.parameters()},\n",
        "                {'params': charModel.parameters(), 'lr': 1e-3}\n",
        "            ], lr=1e-3)\n",
        "\n",
        "model.load_state_dict(torch.load('WordEmbedCharPOS_epoch15.pt'))\n",
        "print(model.eval())\n",
        "charModel.load_state_dict(torch.load('WordEmbedCharPOS1_epoch15.pt'))\n",
        "print(charModel.eval())"
      ],
      "metadata": {
        "colab": {
          "base_uri": "https://localhost:8080/"
        },
        "id": "xgHMFfNiebra",
        "outputId": "b7b376c9-1f8f-487e-b7d2-7438a3e1f982"
      },
      "execution_count": null,
      "outputs": [
        {
          "output_type": "stream",
          "name": "stdout",
          "text": [
            "BiLSTM_CRF(\n",
            "  (lstm): LSTM(168, 100, bidirectional=True)\n",
            "  (hidden2tag): Linear(in_features=200, out_features=22, bias=True)\n",
            ")\n",
            "CharEmbedding(\n",
            "  (embed): Embedding(170, 10)\n",
            "  (BiLSTM): LSTM(10, 25, batch_first=True, bidirectional=True)\n",
            ")\n"
          ]
        }
      ]
    },
    {
      "cell_type": "code",
      "source": [
        "f = open(\"predict3.txt\", \"w\", encoding=\"utf-8\")\n",
        "\n",
        "for index, (sent, embeds, tags, pos, char) in enumerate(testing_data):\n",
        "  embeds = torch.tensor(embeds, dtype=torch.float32)\n",
        "  char_embed = charModel(char)\n",
        "  pos = torch.tensor(pos, dtype=torch.float32)\n",
        "  inputs = torch.cat((embeds,char_embed, pos), 1)\n",
        "  targets = torch.tensor(tags)\n",
        "\n",
        "  _, pred_targets = model(inputs)\n",
        "  pred_tag = [list(tag_to_ix.keys())[list(tag_to_ix.values()).index(tag)] for tag in pred_targets]\n",
        "  true_tag = [list(tag_to_ix.keys())[list(tag_to_ix.values()).index(tag)] for tag in targets]\n",
        "  for word, tags, pred in zip(testing_data[index][0], true_tag, pred_tag):\n",
        "      f.write(\"{} a {} {}\\n\".format(word, tags, pred))"
      ],
      "metadata": {
        "id": "ZwEGaUGAfV6R"
      },
      "execution_count": null,
      "outputs": []
    },
    {
      "cell_type": "code",
      "source": [
        "!python conlleval.py < predict3.txt > result3.txt\n",
        "path = '/content/drive/MyDrive/AI/result3.txt'\n",
        "with open(path, 'r') as result:\n",
        "  print(result.read())"
      ],
      "metadata": {
        "colab": {
          "base_uri": "https://localhost:8080/"
        },
        "id": "es5hr0hBgPbB",
        "outputId": "7a3d24b7-6957-477f-fd04-de1aff8794e7"
      },
      "execution_count": null,
      "outputs": [
        {
          "output_type": "stream",
          "name": "stdout",
          "text": [
            "processed 109490 tokens with 14619 phrases; found: 13948 phrases; correct: 12736.\n",
            "accuracy:  85.45%; (non-O)\n",
            "accuracy:  95.71%; precision:  91.31%; recall:  87.12%; FB1:  89.17\n",
            "              AGE: precision:  92.40%; recall:  95.19%; FB1:  93.78  750\n",
            "             DATE: precision:  97.68%; recall:  97.12%; FB1:  97.40  2109\n",
            "           GENDER: precision:  95.14%; recall:  91.51%; FB1:  93.29  555\n",
            "              JOB: precision:  79.52%; recall:  30.00%; FB1:  43.56  83\n",
            "         LOCATION: precision:  89.32%; recall:  88.57%; FB1:  88.94  5346\n",
            "             NAME: precision:  93.98%; recall:  74.73%; FB1:  83.26  299\n",
            "     ORGANIZATION: precision:  77.64%; recall:  70.43%; FB1:  73.86  899\n",
            "       PATIENT_ID: precision:  97.61%; recall:  96.62%; FB1:  97.11  2547\n",
            "SYMPTOM_AND_DISEASE: precision:  83.66%; recall:  67.00%; FB1:  74.40  1138\n",
            "   TRANSPORTATION: precision:  88.74%; recall:  89.14%; FB1:  88.94  222\n",
            "\n"
          ]
        }
      ]
    }
  ],
  "metadata": {
    "colab": {
      "collapsed_sections": [
        "p91ygBk6kvEU",
        "smGFqkdxBGBJ",
        "iNUNpA8YBWG-",
        "2q9B5DO2B7no",
        "kv692Uun9Zm0"
      ],
      "provenance": []
    },
    "gpuClass": "standard",
    "kernelspec": {
      "display_name": "Python 3",
      "name": "python3"
    },
    "language_info": {
      "name": "python"
    }
  },
  "nbformat": 4,
  "nbformat_minor": 0
}